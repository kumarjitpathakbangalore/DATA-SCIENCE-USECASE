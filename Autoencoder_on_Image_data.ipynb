{
  "nbformat": 4,
  "nbformat_minor": 0,
  "metadata": {
    "colab": {
      "name": "Autoencoder on Image data.ipynb",
      "version": "0.3.2",
      "provenance": [],
      "collapsed_sections": [],
      "include_colab_link": true
    },
    "kernelspec": {
      "name": "python3",
      "display_name": "Python 3"
    },
    "accelerator": "GPU"
  },
  "cells": [
    {
      "cell_type": "markdown",
      "metadata": {
        "id": "view-in-github",
        "colab_type": "text"
      },
      "source": [
        "<a href=\"https://colab.research.google.com/github/kumarjitpathakbangalore/DATA-SCIENCE-USECASE/blob/master/Autoencoder_on_Image_data.ipynb\" target=\"_parent\"><img src=\"https://colab.research.google.com/assets/colab-badge.svg\" alt=\"Open In Colab\"/></a>"
      ]
    },
    {
      "metadata": {
        "id": "dAkq20tKDIiL",
        "colab_type": "text"
      },
      "cell_type": "markdown",
      "source": [
        "## Autoencoder on Image is not different from normal Auto encoder. \n",
        "\n",
        "*   ### Only difference it makes is to have some convolution and maxpooling layer before encoder network. and some Upsampling and deconvolution layer after encoder network"
      ]
    },
    {
      "metadata": {
        "id": "iZAvrZdfDnfy",
        "colab_type": "text"
      },
      "cell_type": "markdown",
      "source": [
        "We shall try this with different data. First our target is to try with hand digit recognition data."
      ]
    },
    {
      "metadata": {
        "id": "CFfmS9cTvDDu",
        "colab_type": "code",
        "colab": {
          "base_uri": "https://localhost:8080/",
          "height": 34
        },
        "outputId": "256dde03-2ae1-4f88-b4fa-3f27346a3a99"
      },
      "cell_type": "code",
      "source": [
        "! pip install psutil\n",
        "import psutil"
      ],
      "execution_count": 2,
      "outputs": [
        {
          "output_type": "stream",
          "text": [
            "Requirement already satisfied: psutil in /usr/local/lib/python3.6/dist-packages (5.4.8)\n"
          ],
          "name": "stdout"
        }
      ]
    },
    {
      "metadata": {
        "id": "Joksxp0VLnpQ",
        "colab_type": "code",
        "colab": {}
      },
      "cell_type": "code",
      "source": [
        "!pip install -U -q PyDrive\n",
        "from pydrive.auth import GoogleAuth\n",
        "from pydrive.drive import GoogleDrive\n",
        "from google.colab import auth\n",
        "from oauth2client.client import GoogleCredentials\n",
        "\n",
        "auth.authenticate_user()\n",
        "gauth = GoogleAuth()\n",
        "gauth.credentials = GoogleCredentials.get_application_default()\n",
        "drive = GoogleDrive(gauth)"
      ],
      "execution_count": 0,
      "outputs": []
    },
    {
      "metadata": {
        "id": "0FSK1FCeWLnh",
        "colab_type": "code",
        "colab": {
          "base_uri": "https://localhost:8080/",
          "height": 122
        },
        "outputId": "26654c39-970d-4f08-c579-2e88ab46d710"
      },
      "cell_type": "code",
      "source": [
        "from google.colab import drive \n",
        "drive.mount('/content/gdrive')"
      ],
      "execution_count": 51,
      "outputs": [
        {
          "output_type": "stream",
          "text": [
            "Go to this URL in a browser: https://accounts.google.com/o/oauth2/auth?client_id=947318989803-6bn6qk8qdgf4n4g3pfee6491hc0brc4i.apps.googleusercontent.com&redirect_uri=urn%3Aietf%3Awg%3Aoauth%3A2.0%3Aoob&scope=email%20https%3A%2F%2Fwww.googleapis.com%2Fauth%2Fdocs.test%20https%3A%2F%2Fwww.googleapis.com%2Fauth%2Fdrive%20https%3A%2F%2Fwww.googleapis.com%2Fauth%2Fdrive.photos.readonly%20https%3A%2F%2Fwww.googleapis.com%2Fauth%2Fpeopleapi.readonly&response_type=code\n",
            "\n",
            "Enter your authorization code:\n",
            "··········\n",
            "Mounted at /content/gdrive\n"
          ],
          "name": "stdout"
        }
      ]
    },
    {
      "metadata": {
        "id": "j7FA6wAEWi3g",
        "colab_type": "text"
      },
      "cell_type": "markdown",
      "source": [
        "### Installing imgaug for image augmentation"
      ]
    },
    {
      "metadata": {
        "id": "1l2KDrbrUSRE",
        "colab_type": "code",
        "colab": {
          "base_uri": "https://localhost:8080/",
          "height": 408
        },
        "outputId": "019250ba-54fa-487a-d34d-80bf89395a8a"
      },
      "cell_type": "code",
      "source": [
        "!pip install imgaug"
      ],
      "execution_count": 4,
      "outputs": [
        {
          "output_type": "stream",
          "text": [
            "Collecting imgaug\n",
            "\u001b[?25l  Downloading https://files.pythonhosted.org/packages/ad/2e/748dbb7bb52ec8667098bae9b585f448569ae520031932687761165419a2/imgaug-0.2.6.tar.gz (631kB)\n",
            "\u001b[K    100% |████████████████████████████████| 634kB 19.3MB/s \n",
            "\u001b[?25hRequirement already satisfied: scipy in /usr/local/lib/python3.6/dist-packages (from imgaug) (1.1.0)\n",
            "Requirement already satisfied: scikit-image>=0.11.0 in /usr/local/lib/python3.6/dist-packages (from imgaug) (0.13.1)\n",
            "Requirement already satisfied: numpy>=1.7.0 in /usr/local/lib/python3.6/dist-packages (from imgaug) (1.14.6)\n",
            "Requirement already satisfied: six in /usr/local/lib/python3.6/dist-packages (from imgaug) (1.11.0)\n",
            "Requirement already satisfied: networkx>=1.8 in /usr/local/lib/python3.6/dist-packages (from scikit-image>=0.11.0->imgaug) (2.2)\n",
            "Requirement already satisfied: PyWavelets>=0.4.0 in /usr/local/lib/python3.6/dist-packages (from scikit-image>=0.11.0->imgaug) (1.0.1)\n",
            "Requirement already satisfied: pillow>=2.1.0 in /usr/local/lib/python3.6/dist-packages (from scikit-image>=0.11.0->imgaug) (4.0.0)\n",
            "Requirement already satisfied: matplotlib>=1.3.1 in /usr/local/lib/python3.6/dist-packages (from scikit-image>=0.11.0->imgaug) (2.1.2)\n",
            "Requirement already satisfied: decorator>=4.3.0 in /usr/local/lib/python3.6/dist-packages (from networkx>=1.8->scikit-image>=0.11.0->imgaug) (4.3.0)\n",
            "Requirement already satisfied: olefile in /usr/local/lib/python3.6/dist-packages (from pillow>=2.1.0->scikit-image>=0.11.0->imgaug) (0.46)\n",
            "Requirement already satisfied: pytz in /usr/local/lib/python3.6/dist-packages (from matplotlib>=1.3.1->scikit-image>=0.11.0->imgaug) (2018.7)\n",
            "Requirement already satisfied: pyparsing!=2.0.4,!=2.1.2,!=2.1.6,>=2.0.1 in /usr/local/lib/python3.6/dist-packages (from matplotlib>=1.3.1->scikit-image>=0.11.0->imgaug) (2.3.0)\n",
            "Requirement already satisfied: cycler>=0.10 in /usr/local/lib/python3.6/dist-packages (from matplotlib>=1.3.1->scikit-image>=0.11.0->imgaug) (0.10.0)\n",
            "Requirement already satisfied: python-dateutil>=2.1 in /usr/local/lib/python3.6/dist-packages (from matplotlib>=1.3.1->scikit-image>=0.11.0->imgaug) (2.5.3)\n",
            "Building wheels for collected packages: imgaug\n",
            "  Running setup.py bdist_wheel for imgaug ... \u001b[?25l-\b \b\\\b \bdone\n",
            "\u001b[?25h  Stored in directory: /root/.cache/pip/wheels/97/ec/48/0d25896c417b715af6236dbcef8f0bed136a1a5e52972fc6d0\n",
            "Successfully built imgaug\n",
            "Installing collected packages: imgaug\n",
            "Successfully installed imgaug-0.2.6\n"
          ],
          "name": "stdout"
        }
      ]
    },
    {
      "metadata": {
        "id": "0bhnXjXuUAce",
        "colab_type": "code",
        "colab": {}
      },
      "cell_type": "code",
      "source": [
        "## load the libraries \n",
        "from keras.layers import Dense, Input, Conv2D, LSTM, MaxPool2D, UpSampling2D\n",
        "from sklearn.model_selection import train_test_split\n",
        "from keras.callbacks import EarlyStopping\n",
        "from keras.utils import to_categorical\n",
        "from numpy import argmax, array_equal\n",
        "import matplotlib.pyplot as plt\n",
        "from keras.models import Model\n",
        "from imgaug import augmenters\n",
        "from random import randint\n",
        "import pandas as pd\n",
        "import numpy as np\n",
        "%matplotlib inline\n",
        "from scipy import stats\n",
        "import tensorflow as tf\n",
        "import seaborn as sns\n",
        "import pickle\n",
        "from sklearn.metrics import confusion_matrix, precision_recall_curve\n",
        "from sklearn.metrics import recall_score, classification_report, auc, roc_curve\n",
        "from sklearn.metrics import precision_recall_fscore_support, f1_score\n",
        "from sklearn.preprocessing import StandardScaler\n",
        "from pylab import rcParams\n",
        "from keras.models import Model, load_model\n",
        "from keras.layers import Input, Dense\n",
        "from keras.callbacks import ModelCheckpoint, TensorBoard, EarlyStopping, LearningRateScheduler,ReduceLROnPlateau\n",
        "from keras import regularizers\n",
        "from keras.preprocessing.image import ImageDataGenerator"
      ],
      "execution_count": 0,
      "outputs": []
    },
    {
      "metadata": {
        "id": "jf4oiCSkQGWI",
        "colab_type": "text"
      },
      "cell_type": "markdown",
      "source": [
        "### Below are the different options of avaialble data with Keras."
      ]
    },
    {
      "metadata": {
        "id": "dIK0TvPD68GK",
        "colab_type": "text"
      },
      "cell_type": "markdown",
      "source": [
        "##### Handwritten digit recognition"
      ]
    },
    {
      "metadata": {
        "id": "RPz8wccyPCYS",
        "colab_type": "code",
        "colab": {
          "base_uri": "https://localhost:8080/",
          "height": 51
        },
        "outputId": "9b091b20-4671-4600-a172-32f5df18e8e2"
      },
      "cell_type": "code",
      "source": [
        "from keras.datasets import mnist\n",
        "\n",
        "(x_train, y_train), (x_test, y_test) = mnist.load_data()"
      ],
      "execution_count": 6,
      "outputs": [
        {
          "output_type": "stream",
          "text": [
            "Downloading data from https://s3.amazonaws.com/img-datasets/mnist.npz\n",
            "11493376/11490434 [==============================] - 7s 1us/step\n"
          ],
          "name": "stdout"
        }
      ]
    },
    {
      "metadata": {
        "id": "x79vxZnHX1iV",
        "colab_type": "code",
        "colab": {
          "base_uri": "https://localhost:8080/",
          "height": 109
        },
        "outputId": "3ff3bc56-3340-4dff-89b9-ab68f7d071e2"
      },
      "cell_type": "code",
      "source": [
        "f, ax = plt.subplots(1,5)\n",
        "# f.set_size_inches(80, 40)\n",
        "for i in range(5):\n",
        "    ax[i].imshow(x_train[i].reshape(28, 28))\n",
        "plt.show()"
      ],
      "execution_count": 13,
      "outputs": [
        {
          "output_type": "display_data",
          "data": {
            "image/png": "[encoded data removed]",
            "text/plain": [
              "<matplotlib.figure.Figure at 0x7ff12b4f3b00>"
            ]
          },
          "metadata": {
            "tags": []
          }
        }
      ]
    },
    {
      "metadata": {
        "id": "3YXQsCJQ7C4v",
        "colab_type": "text"
      },
      "cell_type": "markdown",
      "source": [
        "##### CIFAR10"
      ]
    },
    {
      "metadata": {
        "id": "NW8DsUdsMtlJ",
        "colab_type": "code",
        "colab": {}
      },
      "cell_type": "code",
      "source": [
        "from keras.datasets import cifar10\n",
        "\n",
        "(x_train, y_train), (x_test, y_test) = cifar10.load_data()"
      ],
      "execution_count": 0,
      "outputs": []
    },
    {
      "metadata": {
        "id": "R9gSnY8M7NjG",
        "colab_type": "text"
      },
      "cell_type": "markdown",
      "source": [
        "##### imdb dataset for movie rating and sentiment"
      ]
    },
    {
      "metadata": {
        "id": "kEPi6ZnKO7OR",
        "colab_type": "code",
        "colab": {}
      },
      "cell_type": "code",
      "source": [
        "from keras.datasets import imdb\n",
        "\n",
        "(x_train, y_train), (x_test, y_test) = imdb.load_data(path=\"imdb.npz\",\n",
        "                                                      num_words=None,\n",
        "                                                      skip_top=0,\n",
        "                                                      maxlen=None,\n",
        "                                                      seed=113,\n",
        "                                                      start_char=1,\n",
        "                                                      oov_char=2,\n",
        "                                                      index_from=3)"
      ],
      "execution_count": 0,
      "outputs": []
    },
    {
      "metadata": {
        "id": "6xJWBpJP7cbA",
        "colab_type": "text"
      },
      "cell_type": "markdown",
      "source": [
        "##### Fashion mnist has data arround picturs on cloths"
      ]
    },
    {
      "metadata": {
        "id": "dARaOyFZPIbg",
        "colab_type": "code",
        "colab": {}
      },
      "cell_type": "code",
      "source": [
        "from keras.datasets import fashion_mnist\n",
        "\n",
        "(x_train, y_train), (x_test, y_test) = fashion_mnist.load_data()"
      ],
      "execution_count": 0,
      "outputs": []
    },
    {
      "metadata": {
        "id": "Iqq6aVdW7tA2",
        "colab_type": "text"
      },
      "cell_type": "markdown",
      "source": [
        "##### Boston housing data for supervised learning to predict price"
      ]
    },
    {
      "metadata": {
        "id": "a8PWBUVtPNWC",
        "colab_type": "code",
        "colab": {}
      },
      "cell_type": "code",
      "source": [
        "from keras.datasets import boston_housing\n",
        "\n",
        "(x_train, y_train), (x_test, y_test) = boston_housing.load_data()"
      ],
      "execution_count": 0,
      "outputs": []
    },
    {
      "metadata": {
        "id": "N5ipWnhPP0Q3",
        "colab_type": "text"
      },
      "cell_type": "markdown",
      "source": [
        "### We are using mnist data for handwritten digit recognition."
      ]
    },
    {
      "metadata": {
        "id": "dQbM169qW9f4",
        "colab_type": "text"
      },
      "cell_type": "markdown",
      "source": [
        "#### for RGB any image the intensity is defined by 0 to 255 . Hence deviding by 255 will range the new value \n",
        "#### from 0 - 1. This is kind of normalization of imgae spreadsheet."
      ]
    },
    {
      "metadata": {
        "id": "9ubEcXqnPwbO",
        "colab_type": "code",
        "colab": {}
      },
      "cell_type": "code",
      "source": [
        "## normalize and reshape\n",
        "train_x = x_train/255.\n",
        "val_x = x_test/255."
      ],
      "execution_count": 0,
      "outputs": []
    },
    {
      "metadata": {
        "id": "UwzfeHKuRhKc",
        "colab_type": "text"
      },
      "cell_type": "markdown",
      "source": [
        "#### In our autoencoder network, we will add convolutional layers because convolutional networks works really well with the image inputs. To apply convolutions on image data, we will reshape our inputs in the form of 28 * 28 matrix"
      ]
    },
    {
      "metadata": {
        "id": "VlaKrYXHTmJW",
        "colab_type": "code",
        "colab": {
          "base_uri": "https://localhost:8080/",
          "height": 34
        },
        "outputId": "b552613b-eb73-4efb-eb25-060af2e402b1"
      },
      "cell_type": "code",
      "source": [
        "train_x.shape"
      ],
      "execution_count": 8,
      "outputs": [
        {
          "output_type": "execute_result",
          "data": {
            "text/plain": [
              "(60000, 28, 28)"
            ]
          },
          "metadata": {
            "tags": []
          },
          "execution_count": 8
        }
      ]
    },
    {
      "metadata": {
        "id": "z6pe9ARKXhvX",
        "colab_type": "text"
      },
      "cell_type": "markdown",
      "source": [
        "Let's observe some images"
      ]
    },
    {
      "metadata": {
        "id": "YfRlz36bWAR7",
        "colab_type": "code",
        "colab": {
          "base_uri": "https://localhost:8080/",
          "height": 109
        },
        "outputId": "2478ca09-c690-48f4-c343-75d7a476eb06"
      },
      "cell_type": "code",
      "source": [
        "f, ax = plt.subplots(1,5)\n",
        "# f.set_size_inches(80, 40)\n",
        "for i in range(5):\n",
        "    ax[i].imshow(train_x[i].reshape(28, 28))\n",
        "plt.show()"
      ],
      "execution_count": 12,
      "outputs": [
        {
          "output_type": "display_data",
          "data": {
            "image/png": "[encoded data removed]",
            "text/plain": [
              "<matplotlib.figure.Figure at 0x7ff13ae64c88>"
            ]
          },
          "metadata": {
            "tags": []
          }
        }
      ]
    },
    {
      "metadata": {
        "id": "IvZtm3CxK2HI",
        "colab_type": "text"
      },
      "cell_type": "markdown",
      "source": [
        "### Reshaping the data to fit the model \n",
        "*  -1 represents : to keep the number of images consistant but add an image to it\n",
        "* 28 , 28 ,1 represents (hight , width, channel)"
      ]
    },
    {
      "metadata": {
        "id": "LoL3iPGXQyaz",
        "colab_type": "code",
        "colab": {}
      },
      "cell_type": "code",
      "source": [
        "train_x1 = train_x.reshape(-1, 28, 28, 1)\n",
        "val_x1 = val_x.reshape(-1, 28, 28, 1)"
      ],
      "execution_count": 0,
      "outputs": []
    },
    {
      "metadata": {
        "id": "RYzLFakXK93S",
        "colab_type": "code",
        "colab": {
          "base_uri": "https://localhost:8080/",
          "height": 34
        },
        "outputId": "547c77e2-7b03-4c0c-febb-863132d2acf0"
      },
      "cell_type": "code",
      "source": [
        "train_x1.shape"
      ],
      "execution_count": 10,
      "outputs": [
        {
          "output_type": "execute_result",
          "data": {
            "text/plain": [
              "(60000, 28, 28, 1)"
            ]
          },
          "metadata": {
            "tags": []
          },
          "execution_count": 10
        }
      ]
    },
    {
      "metadata": {
        "id": "YCZxyMZXR4g7",
        "colab_type": "text"
      },
      "cell_type": "markdown",
      "source": [
        "**Noisy Images**\n",
        "\n",
        "We can intentionally introduce the noise in an image. I am using imaug package which can be used to augment the images with different variations. One such variation can be introduction of noise. Different types of noises can be added to the images. For example:\n",
        "\n",
        "*  Salt and Pepper Noise\n",
        "*  Gaussian Noise\n",
        "*  Periodic Noise\n",
        "*  Speckle Noise\n",
        "\n",
        "[https://imgaug.readthedocs.io/en/latest/]"
      ]
    },
    {
      "metadata": {
        "id": "9wxJ-jrISHlK",
        "colab_type": "code",
        "colab": {}
      },
      "cell_type": "code",
      "source": [
        "# Lets add sample noise - Salt and Pepper\n",
        "noise = augmenters.SaltAndPepper(0.1)\n",
        "seq_object = augmenters.Sequential([noise])\n",
        "\n",
        "train_x_n = seq_object.augment_images(train_x * 255) / 255\n",
        "val_x_n = seq_object.augment_images(val_x * 255) / 255"
      ],
      "execution_count": 0,
      "outputs": []
    },
    {
      "metadata": {
        "id": "1X0vCzQsbPLN",
        "colab_type": "code",
        "colab": {
          "base_uri": "https://localhost:8080/",
          "height": 269
        },
        "outputId": "055604d9-9a84-4da0-a4a8-d56a1e658a3f"
      },
      "cell_type": "code",
      "source": [
        "f, ax = plt.subplots(1,5)\n",
        "# f.set_size_inches(80, 40)\n",
        "for i in range(2):\n",
        "    ax[i].imshow(train_x_n[i].reshape(28, 28))\n",
        "plt.show()"
      ],
      "execution_count": 15,
      "outputs": [
        {
          "output_type": "display_data",
          "data": {
            "image/png": "[encoded data removed]",
            "text/plain": [
              "<matplotlib.figure.Figure at 0x7ff12b315198>"
            ]
          },
          "metadata": {
            "tags": []
          }
        }
      ]
    },
    {
      "metadata": {
        "id": "rzcVlQGicCCa",
        "colab_type": "code",
        "colab": {}
      },
      "cell_type": "code",
      "source": [
        ""
      ],
      "execution_count": 0,
      "outputs": []
    },
    {
      "metadata": {
        "id": "mnnoqyJKcDQz",
        "colab_type": "text"
      },
      "cell_type": "markdown",
      "source": [
        "### Check below for diferent augmentation on images \n",
        "\n",
        "[https://imgaug.readthedocs.io/en/latest/source/augmenters.html]"
      ]
    },
    {
      "metadata": {
        "id": "inNhhTTgbZE2",
        "colab_type": "code",
        "colab": {}
      },
      "cell_type": "code",
      "source": [
        "?augmenters.CoarseSaltAndPepper"
      ],
      "execution_count": 0,
      "outputs": []
    },
    {
      "metadata": {
        "id": "x-0rbNuSbwky",
        "colab_type": "code",
        "colab": {}
      },
      "cell_type": "code",
      "source": [
        "# Lets add sample gaussianBlur\n",
        "noise = augmenters.GaussianBlur(sigma=(0.0, 3.0))\n",
        "seq_object = augmenters.Sequential([noise])\n"
      ],
      "execution_count": 0,
      "outputs": []
    },
    {
      "metadata": {
        "id": "5T5PjFbdeM_e",
        "colab_type": "code",
        "colab": {}
      },
      "cell_type": "code",
      "source": [
        "train_x_n = seq_object.augment_images(train_x[0:4] * 255) / 255\n"
      ],
      "execution_count": 0,
      "outputs": []
    },
    {
      "metadata": {
        "id": "VfXTPxgec0ds",
        "colab_type": "code",
        "colab": {
          "base_uri": "https://localhost:8080/",
          "height": 123
        },
        "outputId": "082ff890-97c8-4deb-f0f6-f9bcf4bf3ffe"
      },
      "cell_type": "code",
      "source": [
        "f, ax = plt.subplots(1,4)\n",
        "# f.set_size_inches(80, 40)\n",
        "for i in range(4):\n",
        "    ax[i].imshow(train_x_n[i].reshape(28, 28))\n",
        "plt.show()\n",
        "\n"
      ],
      "execution_count": 23,
      "outputs": [
        {
          "output_type": "display_data",
          "data": {
            "image/png": "[encoded data removed]",
            "text/plain": [
              "<matplotlib.figure.Figure at 0x7ff12de71278>"
            ]
          },
          "metadata": {
            "tags": []
          }
        }
      ]
    },
    {
      "metadata": {
        "id": "VNc_wkvgd8S_",
        "colab_type": "code",
        "colab": {}
      },
      "cell_type": "code",
      "source": [
        "matrix = np.array([[0, -1, 0],\n",
        "                   [-1, 4, -1],\n",
        "                   [0, -1, 0]])\n",
        "\n",
        "\n",
        "# Lets add convolve\n",
        "noise = augmenters.Convolve(matrix=matrix)\n",
        "seq_object = augmenters.Sequential([noise])\n"
      ],
      "execution_count": 0,
      "outputs": []
    },
    {
      "metadata": {
        "id": "rt_Es5aFoh02",
        "colab_type": "code",
        "colab": {}
      },
      "cell_type": "code",
      "source": [
        "train_x_n = seq_object.augment_images(train_x[0:4] * 255) / 255"
      ],
      "execution_count": 0,
      "outputs": []
    },
    {
      "metadata": {
        "id": "jdAS_GMCom6j",
        "colab_type": "code",
        "colab": {
          "base_uri": "https://localhost:8080/",
          "height": 123
        },
        "outputId": "c81243f4-5c38-41c9-fe65-5b94a6f505d3"
      },
      "cell_type": "code",
      "source": [
        "f, ax = plt.subplots(1,4)\n",
        "# f.set_size_inches(80, 40)\n",
        "for i in range(4):\n",
        "    ax[i].imshow(train_x_n[i].reshape(28, 28))\n",
        "plt.show()"
      ],
      "execution_count": 26,
      "outputs": [
        {
          "output_type": "display_data",
          "data": {
            "image/png": "[encoded data removed]",
            "text/plain": [
              "<matplotlib.figure.Figure at 0x7ff12b2342e8>"
            ]
          },
          "metadata": {
            "tags": []
          }
        }
      ]
    },
    {
      "metadata": {
        "id": "GULtG-Qlop5q",
        "colab_type": "code",
        "colab": {}
      },
      "cell_type": "code",
      "source": [
        "# Lets add Sharpen\n",
        "noise = augmenters.Sharpen(alpha=(0.0, 1.0), lightness=(0.75, 2.0))\n",
        "seq_object = augmenters.Sequential([noise])"
      ],
      "execution_count": 0,
      "outputs": []
    },
    {
      "metadata": {
        "id": "yAu1TmMWo35X",
        "colab_type": "code",
        "colab": {}
      },
      "cell_type": "code",
      "source": [
        "train_x_n = seq_object.augment_images(train_x[0:4] * 255) / 255"
      ],
      "execution_count": 0,
      "outputs": []
    },
    {
      "metadata": {
        "id": "q79wytFIo5I2",
        "colab_type": "code",
        "colab": {
          "base_uri": "https://localhost:8080/",
          "height": 123
        },
        "outputId": "cb33b12f-13d6-42bc-fe8c-c81e4d4ab818"
      },
      "cell_type": "code",
      "source": [
        "f, ax = plt.subplots(1,4)\n",
        "# f.set_size_inches(80, 40)\n",
        "for i in range(4):\n",
        "    ax[i].imshow(train_x_n[i].reshape(28, 28))\n",
        "plt.show()"
      ],
      "execution_count": 29,
      "outputs": [
        {
          "output_type": "display_data",
          "data": {
            "image/png": "[encoded data removed]",
            "text/plain": [
              "<matplotlib.figure.Figure at 0x7ff12b4dadd8>"
            ]
          },
          "metadata": {
            "tags": []
          }
        }
      ]
    },
    {
      "metadata": {
        "id": "qFc9AlyKpA6S",
        "colab_type": "code",
        "colab": {}
      },
      "cell_type": "code",
      "source": [
        "\n",
        "# Lets Add values to the pixels of images with possibly different values for neighbouring pixels.\n",
        "noise = augmenters.AddElementwise((-40, 40))\n",
        "seq_object = augmenters.Sequential([noise])"
      ],
      "execution_count": 0,
      "outputs": []
    },
    {
      "metadata": {
        "id": "lH6Lky1npSxX",
        "colab_type": "code",
        "colab": {}
      },
      "cell_type": "code",
      "source": [
        "train_x_n = seq_object.augment_images(train_x[0:4] * 255) / 255"
      ],
      "execution_count": 0,
      "outputs": []
    },
    {
      "metadata": {
        "id": "qtRE6smDpVHY",
        "colab_type": "code",
        "colab": {
          "base_uri": "https://localhost:8080/",
          "height": 123
        },
        "outputId": "e077a47f-98a6-4c1c-9baa-9dd6f5581364"
      },
      "cell_type": "code",
      "source": [
        "f, ax = plt.subplots(1,4)\n",
        "# f.set_size_inches(80, 40)\n",
        "for i in range(4):\n",
        "    ax[i].imshow(train_x_n[i].reshape(28, 28))\n",
        "plt.show()"
      ],
      "execution_count": 32,
      "outputs": [
        {
          "output_type": "display_data",
          "data": {
            "image/png": "[encoded data removed]",
            "text/plain": [
              "<matplotlib.figure.Figure at 0x7ff12b5845f8>"
            ]
          },
          "metadata": {
            "tags": []
          }
        }
      ]
    },
    {
      "metadata": {
        "id": "9dppekvNpoGi",
        "colab_type": "code",
        "colab": {}
      },
      "cell_type": "code",
      "source": [
        "\n",
        "# Lets Add addetive gaussan noise\n",
        "noise = augmenters.AdditiveGaussianNoise(scale=(0, 0.05*255))\n",
        "seq_object = augmenters.Sequential([noise])"
      ],
      "execution_count": 0,
      "outputs": []
    },
    {
      "metadata": {
        "id": "Gq4D1TZdpwwc",
        "colab_type": "code",
        "colab": {}
      },
      "cell_type": "code",
      "source": [
        "train_x_n = seq_object.augment_images(train_x[0:4] * 255) / 255"
      ],
      "execution_count": 0,
      "outputs": []
    },
    {
      "metadata": {
        "id": "SzZtkNCSpzs1",
        "colab_type": "code",
        "colab": {
          "base_uri": "https://localhost:8080/",
          "height": 123
        },
        "outputId": "1f32d617-4019-45e2-a9c1-4f6c8eff345d"
      },
      "cell_type": "code",
      "source": [
        "f, ax = plt.subplots(1,4)\n",
        "# f.set_size_inches(80, 40)\n",
        "for i in range(4):\n",
        "    ax[i].imshow(train_x_n[i].reshape(28, 28))\n",
        "plt.show()"
      ],
      "execution_count": 35,
      "outputs": [
        {
          "output_type": "display_data",
          "data": {
            "image/png": "[encoded data removed]",
            "text/plain": [
              "<matplotlib.figure.Figure at 0x7ff12ada40f0>"
            ]
          },
          "metadata": {
            "tags": []
          }
        }
      ]
    },
    {
      "metadata": {
        "id": "CcMe0R56p8Wy",
        "colab_type": "code",
        "colab": {}
      },
      "cell_type": "code",
      "source": [
        "#Augmenter that inverts all values in images, i.e. sets a pixel from value v to 255-v\n",
        "noise = augmenters.Invert(0.5)\n",
        "seq_object = augmenters.Sequential([noise])"
      ],
      "execution_count": 0,
      "outputs": []
    },
    {
      "metadata": {
        "id": "YTICli0yqTHE",
        "colab_type": "code",
        "colab": {}
      },
      "cell_type": "code",
      "source": [
        "train_x_n = seq_object.augment_images(train_x[0:4] * 255) / 255"
      ],
      "execution_count": 0,
      "outputs": []
    },
    {
      "metadata": {
        "id": "sDC2DzS_qVp_",
        "colab_type": "code",
        "colab": {
          "base_uri": "https://localhost:8080/",
          "height": 123
        },
        "outputId": "a9d34856-6982-4519-b3a5-1fa9fb2ace48"
      },
      "cell_type": "code",
      "source": [
        "f, ax = plt.subplots(1,4)\n",
        "# f.set_size_inches(80, 40)\n",
        "for i in range(4):\n",
        "    ax[i].imshow(train_x_n[i].reshape(28, 28))\n",
        "plt.show()"
      ],
      "execution_count": 38,
      "outputs": [
        {
          "output_type": "display_data",
          "data": {
            "image/png": "[encoded data removed]",
            "text/plain": [
              "<matplotlib.figure.Figure at 0x7ff12ad55e10>"
            ]
          },
          "metadata": {
            "tags": []
          }
        }
      ]
    },
    {
      "metadata": {
        "id": "qgDUNVFqqYMm",
        "colab_type": "code",
        "colab": {}
      },
      "cell_type": "code",
      "source": [
        "#Augmenter to transform images by moving pixels locally around using displacement fields\n",
        "\n",
        "noise = augmenters.ElasticTransformation(alpha=(0, 4.0), sigma=0.15)\n",
        "seq_object = augmenters.Sequential([noise])"
      ],
      "execution_count": 0,
      "outputs": []
    },
    {
      "metadata": {
        "id": "WJtowq1oqq6r",
        "colab_type": "code",
        "colab": {}
      },
      "cell_type": "code",
      "source": [
        "train_x_n = seq_object.augment_images(train_x[0:4] * 255) / 255"
      ],
      "execution_count": 0,
      "outputs": []
    },
    {
      "metadata": {
        "id": "gBInauvDqsqv",
        "colab_type": "code",
        "colab": {
          "base_uri": "https://localhost:8080/",
          "height": 123
        },
        "outputId": "cdbd9c6d-367e-42f2-aaec-28f32e2348a5"
      },
      "cell_type": "code",
      "source": [
        "f, ax = plt.subplots(1,4)\n",
        "# f.set_size_inches(80, 40)\n",
        "for i in range(4):\n",
        "    ax[i].imshow(train_x_n[i].reshape(28, 28))\n",
        "plt.show()"
      ],
      "execution_count": 41,
      "outputs": [
        {
          "output_type": "display_data",
          "data": {
            "image/png": "[encoded data removed]",
            "text/plain": [
              "<matplotlib.figure.Figure at 0x7ff12b2f6d68>"
            ]
          },
          "metadata": {
            "tags": []
          }
        }
      ]
    },
    {
      "metadata": {
        "id": "gAQD5vGQqu5p",
        "colab_type": "code",
        "colab": {
          "base_uri": "https://localhost:8080/",
          "height": 123
        },
        "outputId": "fb1ea84c-b28a-48dd-d129-347dda22193e"
      },
      "cell_type": "code",
      "source": [
        "f, ax = plt.subplots(1,4)\n",
        "# f.set_size_inches(80, 40)\n",
        "for i in range(4):\n",
        "    ax[i].imshow(train_x_n[i].reshape(28, 28))\n",
        "plt.show()"
      ],
      "execution_count": 44,
      "outputs": [
        {
          "output_type": "display_data",
          "data": {
            "image/png": "[encoded data removed]",
            "text/plain": [
              "<matplotlib.figure.Figure at 0x7ff12b2202b0>"
            ]
          },
          "metadata": {
            "tags": []
          }
        }
      ]
    },
    {
      "metadata": {
        "id": "XpXOT947q-9y",
        "colab_type": "text"
      },
      "cell_type": "markdown",
      "source": [
        "### There are more kind of augmentors we can check from the link . We shall try some augmentation from keras data-gen as well:\n",
        "\n",
        "#### We have used data gen and image augmentation combo for our training. Go below and find the fucton for more clarity"
      ]
    },
    {
      "metadata": {
        "id": "eRO8EQCMq3WT",
        "colab_type": "code",
        "colab": {}
      },
      "cell_type": "code",
      "source": [
        "#keras.preprocessing.image.ImageDataGenerator(featurewise_center=False, samplewise_center=False, featurewise_std_normalization=False, samplewise_std_normalization=False, zca_whitening=False, zca_epsilon=1e-06, rotation_range=0, width_shift_range=0.0, height_shift_range=0.0, brightness_range=None, shear_range=0.0, zoom_range=0.0, channel_shift_range=0.0, fill_mode='nearest', cval=0.0, horizontal_flip=False, vertical_flip=False, rescale=None, preprocessing_function=None, data_format=None, validation_split=0.0, dtype=None)"
      ],
      "execution_count": 0,
      "outputs": []
    },
    {
      "metadata": {
        "id": "zzLrDPki8poq",
        "colab_type": "text"
      },
      "cell_type": "markdown",
      "source": [
        "*   featurewise_center: Boolean. Set input mean to 0 over the dataset, feature-wise.\n",
        "*   samplewise_center: Boolean. Set each sample mean to 0.\n",
        "*   featurewise_std_normalization: Boolean. Divide inputs by std of the dataset, feature-wise.\n",
        "*   samplewise_std_normalization: Boolean. Divide each input by its std.\n",
        "*   zca_epsilon: epsilon for ZCA whitening. Default is 1e-6.\n",
        "*   zca_whitening: Boolean. Apply ZCA whitening.\n",
        "*   rotation_range: Int. Degree range for random rotations.\n",
        "*   width_shift_range: Float, 1-D array-like or int\n",
        "*   float: fraction of total width, if < 1, or pixels if >= 1.\n",
        "*   1-D array-like: random elements from the array.\n",
        "*   int: integer number of pixels from interval  (-width_shift_range, +width_shift_range)\n",
        "*   With width_shift_range=2 possible values are integers [-1, 0, +1], same as with  width_shift_range=[-1, 0, +1], while with width_shift_range=1.0 possible values are floats in the interval [-1.0, +1.0).\n",
        "  *   height_shift_range: Float, 1-D array-like or int\n",
        "  *   float: fraction of total height, if < 1, or pixels if >= 1.\n",
        "  *   1-D array-like: random elements from the array.\n",
        "  *   int: integer number of pixels from interval  (-height_shift_range, +height_shift_range)\n",
        "*   With height_shift_range=2 possible values are integers [-1, 0, +1], same as with  height_shift_range=[-1, 0, +1], while with height_shift_range=1.0 possible values are floats in the interval [-1.0, +1.0).\n",
        "*   brightness_range: Tuple or list of two floats. Range for picking a brightness shift value from.\n",
        "*   shear_range: Float. Shear Intensity (Shear angle in counter-clockwise direction in degrees)\n",
        "*   zoom_range: Float or [lower, upper]. Range for random zoom. If a float, [lower, upper] = [1-zoom_range, 1+zoom_range].\n",
        "*   channel_shift_range: Float. Range for random channel shifts.\n",
        "*   fill_mode: One of {\"constant\", \"nearest\", \"reflect\" or \"wrap\"}. Default is 'nearest'. Points outside the boundaries of the input are filled according to the given mode:\n",
        "  *   'constant': kkkkkkkk|abcd|kkkkkkkk (cval=k)\n",
        "  *   'nearest': aaaaaaaa|abcd|dddddddd\n",
        "  *   'reflect': abcddcba|abcd|dcbaabcd\n",
        "  *   'wrap': abcdabcd|abcd|abcdabcd\n",
        "*   cval: Float or Int. Value used for points outside the boundaries when fill_mode = \"constant\".\n",
        "*   horizontal_flip: Boolean. Randomly flip inputs horizontally.\n",
        "*   vertical_flip: Boolean. Randomly flip inputs vertically.\n",
        "*   rescale: rescaling factor. Defaults to None. If None or 0, no rescaling is applied, otherwise we multiply the data by the value provided (after applying all other transformations).\n",
        "*   preprocessing_function: function that will be implied on each input. The function will run after the image is resized and augmented. The function should take one argument: one image (Numpy tensor with rank 3), and should output a Numpy tensor with the same shape.\n",
        "*   data_format: Image data format, either \"channels_first\" or \"channels_last\". \"channels_last\" mode means that the images should have shape  (samples, height, width, channels), \"channels_first\" mode means that the images should have shape (samples, channels, height, width). It defaults to the image_data_format value found in your Keras config file at  ~/.keras/keras.json. If you never set it, then it will be \"channels_last\".\n",
        "*   validation_split: Float. Fraction of images reserved for validation (strictly between 0 and 1).\n",
        "*   dtype: Dtype to use for the generated arrays.\n"
      ]
    },
    {
      "metadata": {
        "id": "xQoLVO7zrOOZ",
        "colab_type": "text"
      },
      "cell_type": "markdown",
      "source": [
        "### Basic - Autoencoder network structure\n",
        "\n",
        "#### When you define model \"model_2 = Model(input_layer, output_layer)\" you can actually take any of the layer as an output out of your defined network structure. \n",
        "\n",
        "#### Compile is a must step for each model to help the object to indicate from what layer to what layer the model should consider and what loss to be considered.\n"
      ]
    },
    {
      "metadata": {
        "id": "ihtz51A2rVgQ",
        "colab_type": "code",
        "colab": {}
      },
      "cell_type": "code",
      "source": [
        "# input layer\n",
        "input_layer = Input(shape=(28, 28, 1)) # shape(hight, width , channel)\n",
        "\n",
        "# encoding architecture\n",
        "encoded_layer1 = Conv2D(64, (3, 3), activation='relu', padding='same')(input_layer)\n",
        "encoded_layer1 = MaxPool2D( (2, 2), padding='same')(encoded_layer1)\n",
        "encoded_layer2 = Conv2D(32, (3, 3), activation='relu', padding='same')(encoded_layer1)\n",
        "encoded_layer2 = MaxPool2D( (2, 2), padding='same')(encoded_layer2)\n",
        "encoded_layer3 = Conv2D(16, (3, 3), activation='relu', padding='same')(encoded_layer2)\n",
        "latent_view    = MaxPool2D( (2, 2), padding='same')(encoded_layer3)\n",
        "\n",
        "# decoding architecture\n",
        "decoded_layer1 = Conv2D(16, (3, 3), activation='relu', padding='same')(latent_view)\n",
        "decoded_layer1 = UpSampling2D((2, 2))(decoded_layer1)\n",
        "decoded_layer2 = Conv2D(32, (3, 3), activation='relu', padding='same')(decoded_layer1)\n",
        "decoded_layer2 = UpSampling2D((2, 2))(decoded_layer2)\n",
        "decoded_layer3 = Conv2D(64, (3, 3), activation='relu')(decoded_layer2)\n",
        "decoded_layer3 = UpSampling2D((2, 2))(decoded_layer3)\n",
        "output_layer   = Conv2D(1, (3, 3), padding='same')(decoded_layer3)\n",
        "\n",
        "# compile the model\n",
        "model_2 = Model(input_layer, output_layer)\n",
        "model_2.compile(optimizer='adam', loss='mse')"
      ],
      "execution_count": 0,
      "outputs": []
    },
    {
      "metadata": {
        "id": "r4eZD58BryGM",
        "colab_type": "code",
        "colab": {
          "base_uri": "https://localhost:8080/",
          "height": 612
        },
        "outputId": "63dc642b-f147-4658-cac8-0cc6151765ca"
      },
      "cell_type": "code",
      "source": [
        "model_2.summary()"
      ],
      "execution_count": 12,
      "outputs": [
        {
          "output_type": "stream",
          "text": [
            "_________________________________________________________________\n",
            "Layer (type)                 Output Shape              Param #   \n",
            "=================================================================\n",
            "input_1 (InputLayer)         (None, 28, 28, 1)         0         \n",
            "_________________________________________________________________\n",
            "conv2d_1 (Conv2D)            (None, 28, 28, 64)        640       \n",
            "_________________________________________________________________\n",
            "max_pooling2d_1 (MaxPooling2 (None, 14, 14, 64)        0         \n",
            "_________________________________________________________________\n",
            "conv2d_2 (Conv2D)            (None, 14, 14, 32)        18464     \n",
            "_________________________________________________________________\n",
            "max_pooling2d_2 (MaxPooling2 (None, 7, 7, 32)          0         \n",
            "_________________________________________________________________\n",
            "conv2d_3 (Conv2D)            (None, 7, 7, 16)          4624      \n",
            "_________________________________________________________________\n",
            "max_pooling2d_3 (MaxPooling2 (None, 4, 4, 16)          0         \n",
            "_________________________________________________________________\n",
            "conv2d_4 (Conv2D)            (None, 4, 4, 16)          2320      \n",
            "_________________________________________________________________\n",
            "up_sampling2d_1 (UpSampling2 (None, 8, 8, 16)          0         \n",
            "_________________________________________________________________\n",
            "conv2d_5 (Conv2D)            (None, 8, 8, 32)          4640      \n",
            "_________________________________________________________________\n",
            "up_sampling2d_2 (UpSampling2 (None, 16, 16, 32)        0         \n",
            "_________________________________________________________________\n",
            "conv2d_6 (Conv2D)            (None, 14, 14, 64)        18496     \n",
            "_________________________________________________________________\n",
            "up_sampling2d_3 (UpSampling2 (None, 28, 28, 64)        0         \n",
            "_________________________________________________________________\n",
            "conv2d_7 (Conv2D)            (None, 28, 28, 1)         577       \n",
            "=================================================================\n",
            "Total params: 49,761\n",
            "Trainable params: 49,761\n",
            "Non-trainable params: 0\n",
            "_________________________________________________________________\n"
          ],
          "name": "stdout"
        }
      ]
    },
    {
      "metadata": {
        "id": "tsbrReDLw2Yb",
        "colab_type": "text"
      },
      "cell_type": "markdown",
      "source": [
        "### Checking present working directory"
      ]
    },
    {
      "metadata": {
        "id": "k44H6C8qwySO",
        "colab_type": "code",
        "colab": {
          "base_uri": "https://localhost:8080/",
          "height": 34
        },
        "outputId": "1c4093aa-6e27-42fe-f234-0d6bf447c52c"
      },
      "cell_type": "code",
      "source": [
        "!pwd"
      ],
      "execution_count": 51,
      "outputs": [
        {
          "output_type": "stream",
          "text": [
            "/content\n"
          ],
          "name": "stdout"
        }
      ]
    },
    {
      "metadata": {
        "id": "XrnOoeDow779",
        "colab_type": "text"
      },
      "cell_type": "markdown",
      "source": [
        "### Defining different controls during learning "
      ]
    },
    {
      "metadata": {
        "id": "ptXothX_xnoI",
        "colab_type": "text"
      },
      "cell_type": "markdown",
      "source": [
        "*  **monitor:** quantity to be monitored. \n",
        "*  ** min_delta:**  minimum change in the monitored quantity to qualify as an improvement, i.e. an absolute change of less than min_delta, will count as no improvement. \n",
        "*  ** patience:**  number of epochs with no improvement after which training will be stopped. \n",
        "*  ** verbose:**  verbosity mode. \n",
        "*  ** mode:**  one of {auto, min, max}. In min mode, training will stop when the quantity monitored has stopped decreasing; in max mode it will stop when the quantity monitored has stopped increasing; in auto mode, the direction is automatically inferred from the name of the monitored quantity. \n",
        "*  ** baseline:**  Baseline value for the monitored quantity to reach. Training will stop if the model doesn't show improvement over the baseline. \n",
        "*  ** restore_best_weights:**  whether to restore model weights from the epoch with the best value of the monitored quantity. If False, the model weights obtained at the last step of training are used"
      ]
    },
    {
      "metadata": {
        "id": "4hQNRZ7pr0rP",
        "colab_type": "code",
        "colab": {}
      },
      "cell_type": "code",
      "source": [
        "\n",
        "model_checkpoint = ModelCheckpoint(filepath='gdrive/My Drive/Data Science Experiment/Autoencoder Experiment/Image/autoencoder_image.h5', monitor='val_loss', verbose=1, save_best_only=False, save_weights_only=False, mode='auto', period=1)\n",
        "early_stopping = EarlyStopping(monitor='val_loss', min_delta=0, patience=5, verbose=1, mode='auto', baseline=None, restore_best_weights=False)\n",
        "#tensorboard = TensorBoard(log_dir='./logs', histogram_freq=0, batch_size=256, write_graph=True, write_grads=False, write_images=False, embeddings_freq=0, embeddings_layer_names=None, embeddings_metadata=None, embeddings_data=None, update_freq='epoch')\n",
        "LR_reducer = ReduceLROnPlateau(monitor='val_loss', factor=0.2, patience=5, min_lr=0.001)\n"
      ],
      "execution_count": 0,
      "outputs": []
    },
    {
      "metadata": {
        "id": "gNLJQLRa_pjf",
        "colab_type": "text"
      },
      "cell_type": "markdown",
      "source": [
        "### To check any class functions which is not documented on the internet\n",
        "\n",
        "*  train_datagen. + TAB will give all available options.. then select any fuctions then pyt () ... go inside bracket and press TAB to see the dicumentations this is for COLAB...\n",
        "\n",
        "* Normal jupyter press shift+TAB inside bracket"
      ]
    },
    {
      "metadata": {
        "id": "T3sH4wGiAiUi",
        "colab_type": "text"
      },
      "cell_type": "markdown",
      "source": [
        "#### generating data from a loaded file: there are option on Keras datagen to either load from folder as well as load from data-frame\n",
        "\n",
        "### Special note: we are adding the image augmentation as experimented before as part of DATAGEN\n",
        "\n",
        "#### Writting a function to randomely select an augmentor and apply for the batch. Post which the data gen is also doing flips , rotation etc as additional step"
      ]
    },
    {
      "metadata": {
        "id": "fCYyZ0bqFcA2",
        "colab_type": "code",
        "colab": {
          "base_uri": "https://localhost:8080/",
          "height": 34
        },
        "outputId": "f93e9a96-c0f9-45f6-c3ce-6f65ac083e98"
      },
      "cell_type": "code",
      "source": [
        "np.random.randint(1,5)"
      ],
      "execution_count": 59,
      "outputs": [
        {
          "output_type": "execute_result",
          "data": {
            "text/plain": [
              "1"
            ]
          },
          "metadata": {
            "tags": []
          },
          "execution_count": 59
        }
      ]
    },
    {
      "metadata": {
        "id": "oa3rW5GYHQGK",
        "colab_type": "text"
      },
      "cell_type": "markdown",
      "source": [
        "#### Please note and check the VVI marked line of the code. we faced a problem that augmenter was not designed for (-1,28,28,1) kind of shape rather it consumes (-1,28,28) shape . \n",
        "##### However our network model consumes (-1,28,28,1)... \n",
        "\n",
        "Hence we converted the image two times in this function to suit the requirment . "
      ]
    },
    {
      "metadata": {
        "id": "clGG4ZmQFOYI",
        "colab_type": "code",
        "colab": {}
      },
      "cell_type": "code",
      "source": [
        "def random_image_augumenter(image_batch):\n",
        "  \n",
        "  image_batch = image_batch.reshape(-1,28,28)\n",
        "  \n",
        "  rnd = np.random.randint(1,7)\n",
        "  if rnd == 1:\n",
        "    noise = augmenters.GaussianBlur(sigma=(0.0, 3.0))\n",
        "    seq_object = augmenters.Sequential([noise])\n",
        "    X = seq_object.augment_images(image_batch)\n",
        "  elif rnd == 2:\n",
        "    noise = augmenters.ElasticTransformation(alpha=(0, 4.0), sigma=0.15)\n",
        "    seq_object = augmenters.Sequential([noise])\n",
        "    X = seq_object.augment_images(image_batch)\n",
        "  elif rnd == 3:\n",
        "    noise = augmenters.Invert(0.5)\n",
        "    seq_object = augmenters.Sequential([noise])\n",
        "    X = seq_object.augment_images(image_batch)\n",
        "  elif rnd == 4:\n",
        "    noise = augmenters.AdditiveGaussianNoise(scale=(0, 0.05*255))\n",
        "    seq_object = augmenters.Sequential([noise])\n",
        "    X = seq_object.augment_images(image_batch)\n",
        "  elif rnd == 5:\n",
        "    noise = augmenters.AddElementwise((-40, 40))\n",
        "    seq_object = augmenters.Sequential([noise])\n",
        "    X = seq_object.augment_images(image_batch)\n",
        "  elif rnd == 6:\n",
        "    matrix = np.array([[0, -1, 0],\n",
        "                   [-1, 4, -1],\n",
        "                   [0, -1, 0]])\n",
        "    # Lets add convolve\n",
        "    noise = augmenters.Convolve(matrix=matrix)\n",
        "    seq_object = augmenters.Sequential([noise])\n",
        "    X = seq_object.augment_images(image_batch)\n",
        "  elif rnd == 7:\n",
        "    noise = augmenters.SaltAndPepper(0.1)\n",
        "    seq_object = augmenters.Sequential([noise])\n",
        "    X = seq_object.augment_images(image_batch)\n",
        "  else:\n",
        "    noise = augmenters.GaussianBlur(sigma=(0.0, 3.0))\n",
        "    seq_object = augmenters.Sequential([noise])\n",
        "    X = seq_object.augment_images(image_batch)\n",
        "  \n",
        "  \n",
        "  X = X.reshape(-1,28,28,1) # VVI \n",
        "  #print(X.shape)\n",
        "  return X\n",
        "  "
      ],
      "execution_count": 0,
      "outputs": []
    },
    {
      "metadata": {
        "id": "thOpqOlfBDS8",
        "colab_type": "text"
      },
      "cell_type": "markdown",
      "source": [
        "#### Defining data generator with preprocessing as random_image_augmenter"
      ]
    },
    {
      "metadata": {
        "id": "KyfeLhGtGoYg",
        "colab_type": "code",
        "colab": {}
      },
      "cell_type": "code",
      "source": [
        "train_datagen = ImageDataGenerator(\n",
        "        rotation_range = 40,\n",
        "        width_shift_range = 0.2,\n",
        "        height_shift_range = 0.2,\n",
        "        shear_range = 0.2,\n",
        "        zoom_range = 0.2,\n",
        "        horizontal_flip = True\n",
        "        ,preprocessing_function = random_image_augumenter\n",
        ")"
      ],
      "execution_count": 0,
      "outputs": []
    },
    {
      "metadata": {
        "id": "AI298vATBNny",
        "colab_type": "text"
      },
      "cell_type": "markdown",
      "source": [
        "#### For validation we are not using any augmentation . just batch by batch processing"
      ]
    },
    {
      "metadata": {
        "id": "Y0Zn1in5MApf",
        "colab_type": "code",
        "colab": {}
      },
      "cell_type": "code",
      "source": [
        "val_datagen = ImageDataGenerator()\n"
      ],
      "execution_count": 0,
      "outputs": []
    },
    {
      "metadata": {
        "id": "gkx55t1Q7Z8p",
        "colab_type": "code",
        "colab": {}
      },
      "cell_type": "code",
      "source": [
        "# train_datagen = ImageDataGenerator(\n",
        "#         rotation_range = 40,\n",
        "#         width_shift_range = 0.2,\n",
        "#         height_shift_range = 0.2,\n",
        "#         shear_range = 0.2,\n",
        "#         zoom_range = 0.2,\n",
        "#         horizontal_flip = True\n",
        "#         ,preprocessing_function = seq_object.augment_images\n",
        "# )\n",
        "\n"
      ],
      "execution_count": 0,
      "outputs": []
    },
    {
      "metadata": {
        "id": "4HGjLfivAmoE",
        "colab_type": "text"
      },
      "cell_type": "markdown",
      "source": [
        "#### Generating data from preloaded file:\n",
        "\n",
        "Use ImageDataGenerator.flow\n",
        "\n",
        "##### Note: datagen apply the tricks only on  training set not on validation set. Now we have noisy and augmented images on training side. But clean image on the testing side........ FUN right? "
      ]
    },
    {
      "metadata": {
        "id": "lKopKC1bBZFe",
        "colab_type": "code",
        "colab": {}
      },
      "cell_type": "code",
      "source": [
        "#as we are using pre loaded data we shall use Flow function on ImageDataGenerator\n",
        "\n",
        "\n",
        "train_generator = train_datagen.flow(train_x1, y= train_x1, batch_size=256, shuffle=True, seed=9 )"
      ],
      "execution_count": 0,
      "outputs": []
    },
    {
      "metadata": {
        "id": "FnokzAbUL7Uf",
        "colab_type": "code",
        "colab": {}
      },
      "cell_type": "code",
      "source": [
        "valid_generator = val_datagen.flow(val_x1,y= val_x1, batch_size=256, shuffle=True, seed=9)"
      ],
      "execution_count": 0,
      "outputs": []
    },
    {
      "metadata": {
        "id": "af4s50R7CDT7",
        "colab_type": "text"
      },
      "cell_type": "markdown",
      "source": [
        "##### Testing whether augmented input-X and testing input-X is same or not"
      ]
    },
    {
      "metadata": {
        "id": "k1ufgK63UmLs",
        "colab_type": "code",
        "colab": {}
      },
      "cell_type": "code",
      "source": [
        "#gen = train_generator.next()"
      ],
      "execution_count": 0,
      "outputs": []
    },
    {
      "metadata": {
        "id": "RrL6zqDpVZD-",
        "colab_type": "text"
      },
      "cell_type": "markdown",
      "source": [
        "Returns\n",
        "    An `Iterator` yielding tuples of `(x, y)`\n",
        "        where `x` is a numpy array of image data\n",
        "        (in the case of a single image input) or a list\n",
        "        of numpy arrays (in the case with\n",
        "        additional inputs) and `y` is a numpy array\n",
        "        of corresponding labels. If 'sample_weight' is not None,\n",
        "        the yielded tuples are of the form `(x, y, sample_weight)`.\n",
        "        If `y` is None, only the numpy array `x` is returned."
      ]
    },
    {
      "metadata": {
        "id": "TEeMtrC_Uwsm",
        "colab_type": "code",
        "colab": {
          "base_uri": "https://localhost:8080/",
          "height": 34
        },
        "outputId": "b8512291-cb1e-47ca-db09-7f73a57e44f9"
      },
      "cell_type": "code",
      "source": [
        "#gen[0].shape"
      ],
      "execution_count": 49,
      "outputs": [
        {
          "output_type": "execute_result",
          "data": {
            "text/plain": [
              "(256, 28, 28, 1)"
            ]
          },
          "metadata": {
            "tags": []
          },
          "execution_count": 49
        }
      ]
    },
    {
      "metadata": {
        "id": "5cjyUKi8U6rA",
        "colab_type": "code",
        "colab": {
          "base_uri": "https://localhost:8080/",
          "height": 34
        },
        "outputId": "91716378-d55d-4880-9f88-f39a6b15bd9f"
      },
      "cell_type": "code",
      "source": [
        "#np.allclose(gen[0],gen[1])"
      ],
      "execution_count": 50,
      "outputs": [
        {
          "output_type": "execute_result",
          "data": {
            "text/plain": [
              "False"
            ]
          },
          "metadata": {
            "tags": []
          },
          "execution_count": 50
        }
      ]
    },
    {
      "metadata": {
        "id": "kU1ydjsGTtEU",
        "colab_type": "code",
        "colab": {
          "base_uri": "https://localhost:8080/",
          "height": 34
        },
        "outputId": "f61dec53-0417-4d1d-c8f4-cf1ca3e8b7e7"
      },
      "cell_type": "code",
      "source": [
        "#np.allclose(train_generator.x, train_x1)"
      ],
      "execution_count": 45,
      "outputs": [
        {
          "output_type": "execute_result",
          "data": {
            "text/plain": [
              "True"
            ]
          },
          "metadata": {
            "tags": []
          },
          "execution_count": 45
        }
      ]
    },
    {
      "metadata": {
        "id": "6gbevxpwA0EZ",
        "colab_type": "text"
      },
      "cell_type": "markdown",
      "source": [
        "### Generating data from DATAFRAME\n",
        "\n",
        "##### ImageDataGenerator.flow from dataframe"
      ]
    },
    {
      "metadata": {
        "id": "sXbpKuOm7cTF",
        "colab_type": "code",
        "colab": {}
      },
      "cell_type": "code",
      "source": [
        "# train_generator = train_datagen.flow_from_directory(\n",
        "#         \"dataset//train\",\n",
        "#         target_size = TARGET_SIZE, \n",
        "#         batch_size = BATCH_SIZE, \n",
        "#         class_mode = \"categorical\")\n"
      ],
      "execution_count": 0,
      "outputs": []
    },
    {
      "metadata": {
        "id": "fq0_fsq57fVD",
        "colab_type": "code",
        "colab": {}
      },
      "cell_type": "code",
      "source": [
        "# validation_generator = train_datagen.flow_from_directory(\n",
        "#         \"dataset//valid\", \n",
        "#         target_size = TARGET_SIZE, \n",
        "#         batch_size = BATCH_SIZE, \n",
        "#         class_mode = \"categorical\")"
      ],
      "execution_count": 0,
      "outputs": []
    },
    {
      "metadata": {
        "id": "lNajmFUS7vm6",
        "colab_type": "code",
        "colab": {}
      },
      "cell_type": "code",
      "source": [
        "# !ls dataset//test|head"
      ],
      "execution_count": 0,
      "outputs": []
    },
    {
      "metadata": {
        "id": "kXxZJ-B9751C",
        "colab_type": "code",
        "colab": {}
      },
      "cell_type": "code",
      "source": [
        "# model.fit_generator(\n",
        "#         generator = train_generator,\n",
        "#         epochs = 50,\n",
        "#         callbacks = [checkpoint, earlystop, reducelr,tbCallBack],\n",
        "#         validation_data = validation_generator,\n",
        "#         verbose = 1)"
      ],
      "execution_count": 0,
      "outputs": []
    },
    {
      "metadata": {
        "id": "KjW-EZP58CCZ",
        "colab_type": "code",
        "colab": {}
      },
      "cell_type": "code",
      "source": [
        "# predictions = model.predict_generator(\n",
        "#         test_generator,\n",
        "#         verbose = 1)"
      ],
      "execution_count": 0,
      "outputs": []
    },
    {
      "metadata": {
        "id": "104fTvmIr7lp",
        "colab_type": "code",
        "colab": {}
      },
      "cell_type": "code",
      "source": [
        "# history = model_2.fit(train_x_n, train_x, epochs=10, batch_size=256, validation_data=(val_x_n, val_x), callbacks=[early_stopping,model_checkpoint,LR_reducer])"
      ],
      "execution_count": 0,
      "outputs": []
    },
    {
      "metadata": {
        "id": "g4TcfWJWCUpN",
        "colab_type": "text"
      },
      "cell_type": "markdown",
      "source": [
        "### We are now ready to start the training"
      ]
    },
    {
      "metadata": {
        "id": "HooQstq5NEbM",
        "colab_type": "code",
        "colab": {
          "base_uri": "https://localhost:8080/",
          "height": 697
        },
        "outputId": "45a343ab-ba27-487b-bd9a-16561562cd33"
      },
      "cell_type": "code",
      "source": [
        "history = model_2.fit_generator(\n",
        "    generator = train_generator,\n",
        "    epochs = 10,\n",
        "    steps_per_epoch= 235,\n",
        "    validation_steps= 40,\n",
        "    callbacks = [early_stopping,model_checkpoint,LR_reducer],\n",
        "    validation_data = valid_generator,\n",
        "    verbose = 1,use_multiprocessing=True).history\n",
        "              "
      ],
      "execution_count": 69,
      "outputs": [
        {
          "output_type": "stream",
          "text": [
            "Epoch 1/10\n",
            "235/235 [==============================] - 52s 221ms/step - loss: 0.0679 - val_loss: 0.0662\n",
            "\n",
            "Epoch 00001: saving model to gdrive/My Drive/Data Science Experiment/Autoencoder Experiment/Image/autoencoder_image.h5\n",
            "Epoch 2/10\n",
            "235/235 [==============================] - 51s 218ms/step - loss: 0.0674 - val_loss: 0.0653\n",
            "\n",
            "Epoch 00002: saving model to gdrive/My Drive/Data Science Experiment/Autoencoder Experiment/Image/autoencoder_image.h5\n",
            "Epoch 3/10\n",
            "235/235 [==============================] - 52s 222ms/step - loss: 0.0670 - val_loss: 0.0647\n",
            "\n",
            "Epoch 00003: saving model to gdrive/My Drive/Data Science Experiment/Autoencoder Experiment/Image/autoencoder_image.h5\n",
            "Epoch 4/10\n",
            "235/235 [==============================] - 52s 221ms/step - loss: 0.0667 - val_loss: 0.0638\n",
            "\n",
            "Epoch 00004: saving model to gdrive/My Drive/Data Science Experiment/Autoencoder Experiment/Image/autoencoder_image.h5\n",
            "Epoch 5/10\n",
            "235/235 [==============================] - 52s 221ms/step - loss: 0.0665 - val_loss: 0.0632\n",
            "\n",
            "Epoch 00005: saving model to gdrive/My Drive/Data Science Experiment/Autoencoder Experiment/Image/autoencoder_image.h5\n",
            "Epoch 6/10\n",
            "235/235 [==============================] - 52s 222ms/step - loss: 0.0662 - val_loss: 0.0619\n",
            "\n",
            "Epoch 00006: saving model to gdrive/My Drive/Data Science Experiment/Autoencoder Experiment/Image/autoencoder_image.h5\n",
            "Epoch 7/10\n",
            "235/235 [==============================] - 51s 216ms/step - loss: 0.0658 - val_loss: 0.0588\n",
            "\n",
            "Epoch 00007: saving model to gdrive/My Drive/Data Science Experiment/Autoencoder Experiment/Image/autoencoder_image.h5\n",
            "Epoch 8/10\n",
            "235/235 [==============================] - 51s 217ms/step - loss: 0.0654 - val_loss: 0.0580\n",
            "\n",
            "Epoch 00008: saving model to gdrive/My Drive/Data Science Experiment/Autoencoder Experiment/Image/autoencoder_image.h5\n",
            "Epoch 9/10\n",
            "235/235 [==============================] - 51s 219ms/step - loss: 0.0649 - val_loss: 0.0574\n",
            "\n",
            "Epoch 00009: saving model to gdrive/My Drive/Data Science Experiment/Autoencoder Experiment/Image/autoencoder_image.h5\n",
            "Epoch 10/10\n",
            "235/235 [==============================] - 51s 218ms/step - loss: 0.0646 - val_loss: 0.0559\n",
            "\n",
            "Epoch 00010: saving model to gdrive/My Drive/Data Science Experiment/Autoencoder Experiment/Image/autoencoder_image.h5\n"
          ],
          "name": "stdout"
        }
      ]
    },
    {
      "metadata": {
        "id": "8jWqoyTkPghx",
        "colab_type": "code",
        "colab": {
          "base_uri": "https://localhost:8080/",
          "height": 294
        },
        "outputId": "c3176f0f-5b86-4119-982c-ae5b2dc966ac"
      },
      "cell_type": "code",
      "source": [
        "plt.plot(history['loss'], linewidth=2, label='Train')\n",
        "plt.plot(history['val_loss'], linewidth=2, label='Test')\n",
        "plt.legend(loc='upper right')\n",
        "plt.title('Model loss')\n",
        "plt.ylabel('Loss')\n",
        "plt.xlabel('Epoch')\n",
        "#plt.ylim(ymin=0.70,ymax=1)\n",
        "plt.show()"
      ],
      "execution_count": 70,
      "outputs": [
        {
          "output_type": "display_data",
          "data": {
            "image/png": "[encoded data removed]",
            "text/plain": [
              "<matplotlib.figure.Figure at 0x7f245afb3b38>"
            ]
          },
          "metadata": {
            "tags": []
          }
        }
      ]
    },
    {
      "metadata": {
        "id": "6RhhE-BuQOJs",
        "colab_type": "code",
        "colab": {
          "base_uri": "https://localhost:8080/",
          "height": 34
        },
        "outputId": "ba005bc6-5511-491a-bbe4-d66f6aa6be4d"
      },
      "cell_type": "code",
      "source": [
        "val_x1.shape"
      ],
      "execution_count": 22,
      "outputs": [
        {
          "output_type": "execute_result",
          "data": {
            "text/plain": [
              "(10000, 28, 28, 1)"
            ]
          },
          "metadata": {
            "tags": []
          },
          "execution_count": 22
        }
      ]
    },
    {
      "metadata": {
        "id": "ZLM2bt-NCrjI",
        "colab_type": "text"
      },
      "cell_type": "markdown",
      "source": [
        "#### We are keeping the checkpint dsaved in the drive and hence we can do incremental learning by simply loading the model and start the training again."
      ]
    },
    {
      "metadata": {
        "id": "2wsU__kVdZRk",
        "colab_type": "code",
        "colab": {
          "base_uri": "https://localhost:8080/",
          "height": 612
        },
        "outputId": "25c9c587-6624-4ddc-89c5-c0ff6b9ecd49"
      },
      "cell_type": "code",
      "source": [
        "from keras.models import load_model\n",
        "\n",
        "# returns a compiled model,identical to the previous run\n",
        "model_3 = load_model('gdrive/My Drive/Data Science Experiment/Autoencoder Experiment/Image/autoencoder_image.h5')\n",
        "model_3.summary()"
      ],
      "execution_count": 75,
      "outputs": [
        {
          "output_type": "stream",
          "text": [
            "_________________________________________________________________\n",
            "Layer (type)                 Output Shape              Param #   \n",
            "=================================================================\n",
            "input_1 (InputLayer)         (None, 28, 28, 1)         0         \n",
            "_________________________________________________________________\n",
            "conv2d_1 (Conv2D)            (None, 28, 28, 64)        640       \n",
            "_________________________________________________________________\n",
            "max_pooling2d_1 (MaxPooling2 (None, 14, 14, 64)        0         \n",
            "_________________________________________________________________\n",
            "conv2d_2 (Conv2D)            (None, 14, 14, 32)        18464     \n",
            "_________________________________________________________________\n",
            "max_pooling2d_2 (MaxPooling2 (None, 7, 7, 32)          0         \n",
            "_________________________________________________________________\n",
            "conv2d_3 (Conv2D)            (None, 7, 7, 16)          4624      \n",
            "_________________________________________________________________\n",
            "max_pooling2d_3 (MaxPooling2 (None, 4, 4, 16)          0         \n",
            "_________________________________________________________________\n",
            "conv2d_4 (Conv2D)            (None, 4, 4, 16)          2320      \n",
            "_________________________________________________________________\n",
            "up_sampling2d_1 (UpSampling2 (None, 8, 8, 16)          0         \n",
            "_________________________________________________________________\n",
            "conv2d_5 (Conv2D)            (None, 8, 8, 32)          4640      \n",
            "_________________________________________________________________\n",
            "up_sampling2d_2 (UpSampling2 (None, 16, 16, 32)        0         \n",
            "_________________________________________________________________\n",
            "conv2d_6 (Conv2D)            (None, 14, 14, 64)        18496     \n",
            "_________________________________________________________________\n",
            "up_sampling2d_3 (UpSampling2 (None, 28, 28, 64)        0         \n",
            "_________________________________________________________________\n",
            "conv2d_7 (Conv2D)            (None, 28, 28, 1)         577       \n",
            "=================================================================\n",
            "Total params: 49,761\n",
            "Trainable params: 49,761\n",
            "Non-trainable params: 0\n",
            "_________________________________________________________________\n"
          ],
          "name": "stdout"
        }
      ]
    },
    {
      "metadata": {
        "id": "NTnYEqKYf19J",
        "colab_type": "text"
      },
      "cell_type": "markdown",
      "source": [
        "### Another run"
      ]
    },
    {
      "metadata": {
        "id": "yAmMUUWgeC_4",
        "colab_type": "code",
        "colab": {
          "base_uri": "https://localhost:8080/",
          "height": 1377
        },
        "outputId": "3c4b79b9-990a-40ce-f642-8f9535d3cde4"
      },
      "cell_type": "code",
      "source": [
        "history2 = model_3.fit_generator(\n",
        "    generator = train_generator,\n",
        "    epochs = 20,\n",
        "    steps_per_epoch= 235,\n",
        "    validation_steps= 40,\n",
        "    callbacks = [early_stopping,model_checkpoint,LR_reducer],\n",
        "    validation_data = valid_generator,\n",
        "    verbose = 1,use_multiprocessing=True).history\n",
        "              "
      ],
      "execution_count": 76,
      "outputs": [
        {
          "output_type": "stream",
          "text": [
            "Epoch 1/20\n",
            "235/235 [==============================] - 52s 221ms/step - loss: 0.0645 - val_loss: 0.0569\n",
            "\n",
            "Epoch 00001: saving model to gdrive/My Drive/Data Science Experiment/Autoencoder Experiment/Image/autoencoder_image.h5\n",
            "Epoch 2/20\n",
            "235/235 [==============================] - 52s 222ms/step - loss: 0.0642 - val_loss: 0.0549\n",
            "\n",
            "Epoch 00002: saving model to gdrive/My Drive/Data Science Experiment/Autoencoder Experiment/Image/autoencoder_image.h5\n",
            "Epoch 3/20\n",
            "235/235 [==============================] - 52s 223ms/step - loss: 0.0640 - val_loss: 0.0560\n",
            "\n",
            "Epoch 00003: saving model to gdrive/My Drive/Data Science Experiment/Autoencoder Experiment/Image/autoencoder_image.h5\n",
            "Epoch 4/20\n",
            "235/235 [==============================] - 52s 221ms/step - loss: 0.0639 - val_loss: 0.0542\n",
            "\n",
            "Epoch 00004: saving model to gdrive/My Drive/Data Science Experiment/Autoencoder Experiment/Image/autoencoder_image.h5\n",
            "Epoch 5/20\n",
            "235/235 [==============================] - 52s 223ms/step - loss: 0.0636 - val_loss: 0.0547\n",
            "\n",
            "Epoch 00005: saving model to gdrive/My Drive/Data Science Experiment/Autoencoder Experiment/Image/autoencoder_image.h5\n",
            "Epoch 6/20\n",
            "235/235 [==============================] - 52s 222ms/step - loss: 0.0635 - val_loss: 0.0541\n",
            "\n",
            "Epoch 00006: saving model to gdrive/My Drive/Data Science Experiment/Autoencoder Experiment/Image/autoencoder_image.h5\n",
            "Epoch 7/20\n",
            "235/235 [==============================] - 53s 224ms/step - loss: 0.0634 - val_loss: 0.0537\n",
            "\n",
            "Epoch 00007: saving model to gdrive/My Drive/Data Science Experiment/Autoencoder Experiment/Image/autoencoder_image.h5\n",
            "Epoch 8/20\n",
            "235/235 [==============================] - 53s 224ms/step - loss: 0.0631 - val_loss: 0.0536\n",
            "\n",
            "Epoch 00008: saving model to gdrive/My Drive/Data Science Experiment/Autoencoder Experiment/Image/autoencoder_image.h5\n",
            "Epoch 9/20\n",
            "235/235 [==============================] - 52s 221ms/step - loss: 0.0630 - val_loss: 0.0529\n",
            "\n",
            "Epoch 00009: saving model to gdrive/My Drive/Data Science Experiment/Autoencoder Experiment/Image/autoencoder_image.h5\n",
            "Epoch 10/20\n",
            "235/235 [==============================] - 52s 223ms/step - loss: 0.0629 - val_loss: 0.0534\n",
            "\n",
            "Epoch 00010: saving model to gdrive/My Drive/Data Science Experiment/Autoencoder Experiment/Image/autoencoder_image.h5\n",
            "Epoch 11/20\n",
            "235/235 [==============================] - 52s 222ms/step - loss: 0.0628 - val_loss: 0.0526\n",
            "\n",
            "Epoch 00011: saving model to gdrive/My Drive/Data Science Experiment/Autoencoder Experiment/Image/autoencoder_image.h5\n",
            "Epoch 12/20\n",
            "235/235 [==============================] - 52s 220ms/step - loss: 0.0626 - val_loss: 0.0522\n",
            "\n",
            "Epoch 00012: saving model to gdrive/My Drive/Data Science Experiment/Autoencoder Experiment/Image/autoencoder_image.h5\n",
            "Epoch 13/20\n",
            "235/235 [==============================] - 52s 223ms/step - loss: 0.0626 - val_loss: 0.0526\n",
            "\n",
            "Epoch 00013: saving model to gdrive/My Drive/Data Science Experiment/Autoencoder Experiment/Image/autoencoder_image.h5\n",
            "Epoch 14/20\n",
            "235/235 [==============================] - 53s 224ms/step - loss: 0.0624 - val_loss: 0.0524\n",
            "\n",
            "Epoch 00014: saving model to gdrive/My Drive/Data Science Experiment/Autoencoder Experiment/Image/autoencoder_image.h5\n",
            "Epoch 15/20\n",
            "235/235 [==============================] - 52s 219ms/step - loss: 0.0624 - val_loss: 0.0515\n",
            "\n",
            "Epoch 00015: saving model to gdrive/My Drive/Data Science Experiment/Autoencoder Experiment/Image/autoencoder_image.h5\n",
            "Epoch 16/20\n",
            "235/235 [==============================] - 52s 222ms/step - loss: 0.0622 - val_loss: 0.0516\n",
            "\n",
            "Epoch 00016: saving model to gdrive/My Drive/Data Science Experiment/Autoencoder Experiment/Image/autoencoder_image.h5\n",
            "Epoch 17/20\n",
            "235/235 [==============================] - 52s 221ms/step - loss: 0.0622 - val_loss: 0.0510\n",
            "\n",
            "Epoch 00017: saving model to gdrive/My Drive/Data Science Experiment/Autoencoder Experiment/Image/autoencoder_image.h5\n",
            "Epoch 18/20\n",
            "235/235 [==============================] - 52s 222ms/step - loss: 0.0621 - val_loss: 0.0509\n",
            "\n",
            "Epoch 00018: saving model to gdrive/My Drive/Data Science Experiment/Autoencoder Experiment/Image/autoencoder_image.h5\n",
            "Epoch 19/20\n",
            "235/235 [==============================] - 52s 222ms/step - loss: 0.0619 - val_loss: 0.0506\n",
            "\n",
            "Epoch 00019: saving model to gdrive/My Drive/Data Science Experiment/Autoencoder Experiment/Image/autoencoder_image.h5\n",
            "Epoch 20/20\n",
            "235/235 [==============================] - 52s 222ms/step - loss: 0.0619 - val_loss: 0.0512\n",
            "\n",
            "Epoch 00020: saving model to gdrive/My Drive/Data Science Experiment/Autoencoder Experiment/Image/autoencoder_image.h5\n"
          ],
          "name": "stdout"
        }
      ]
    },
    {
      "metadata": {
        "id": "c8FdcxippR7F",
        "colab_type": "code",
        "colab": {
          "base_uri": "https://localhost:8080/",
          "height": 34
        },
        "outputId": "8a44e151-8641-4536-9330-e4d6ebfca38f"
      },
      "cell_type": "code",
      "source": [
        "history.keys()"
      ],
      "execution_count": 79,
      "outputs": [
        {
          "output_type": "execute_result",
          "data": {
            "text/plain": [
              "dict_keys(['val_loss', 'loss', 'lr'])"
            ]
          },
          "metadata": {
            "tags": []
          },
          "execution_count": 79
        }
      ]
    },
    {
      "metadata": {
        "id": "RdoNRuMLpkMe",
        "colab_type": "code",
        "colab": {
          "base_uri": "https://localhost:8080/",
          "height": 187
        },
        "outputId": "bf669493-0777-4980-9a69-418f1c25f8d0"
      },
      "cell_type": "code",
      "source": [
        "history['loss']"
      ],
      "execution_count": 80,
      "outputs": [
        {
          "output_type": "execute_result",
          "data": {
            "text/plain": [
              "[0.06788589401245117,\n",
              " 0.06741116189559301,\n",
              " 0.06701922213236491,\n",
              " 0.06673663191397985,\n",
              " 0.06653810713688532,\n",
              " 0.06617485634088516,\n",
              " 0.06577280365427335,\n",
              " 0.06537100202639898,\n",
              " 0.06494814011653265,\n",
              " 0.06465571308135987]"
            ]
          },
          "metadata": {
            "tags": []
          },
          "execution_count": 80
        }
      ]
    },
    {
      "metadata": {
        "id": "W0KsE19DDlqK",
        "colab_type": "text"
      },
      "cell_type": "markdown",
      "source": [
        "#### Adding both the run loss values to see overall graph"
      ]
    },
    {
      "metadata": {
        "id": "RY6nW_dYgeB0",
        "colab_type": "code",
        "colab": {}
      },
      "cell_type": "code",
      "source": [
        "history_cum = history\n",
        "history_cum['loss'].extend(history2['loss'])\n",
        "history_cum['val_loss'].extend(history2['val_loss'])"
      ],
      "execution_count": 0,
      "outputs": []
    },
    {
      "metadata": {
        "id": "EYj8fQE1p9sV",
        "colab_type": "code",
        "colab": {
          "base_uri": "https://localhost:8080/",
          "height": 457
        },
        "outputId": "6f67fb3d-f12f-4dd3-fbec-969544498a61"
      },
      "cell_type": "code",
      "source": [
        "plt.figure(figsize=(10,7))\n",
        "plt.plot(history_cum['loss'], linewidth=2, label='Train')\n",
        "plt.plot(history_cum['val_loss'], linewidth=2, label='Test')\n",
        "plt.legend(loc='upper right')\n",
        "plt.title('Model loss')\n",
        "plt.ylabel('Loss')\n",
        "plt.xlabel('Epoch')\n",
        "#plt.ylim(ymin=0.70,ymax=1)\n",
        "plt.show()"
      ],
      "execution_count": 86,
      "outputs": [
        {
          "output_type": "display_data",
          "data": {
            "image/png": "[encoded data removed]",
            "text/plain": [
              "<matplotlib.figure.Figure at 0x7f245a726748>"
            ]
          },
          "metadata": {
            "tags": []
          }
        }
      ]
    },
    {
      "metadata": {
        "id": "rLin3530DI6J",
        "colab_type": "text"
      },
      "cell_type": "markdown",
      "source": [
        "#### Below is the way to completely change the data or augment the data and then use it normally batch by batch..... Personally neither me nor Jitin liked this idea... we want evrything on go."
      ]
    },
    {
      "metadata": {
        "id": "FTnjQO_heb4t",
        "colab_type": "code",
        "colab": {}
      },
      "cell_type": "code",
      "source": [
        "#train_x_augmented = train_datagen.fit(train_x1,augment=True)"
      ],
      "execution_count": 0,
      "outputs": []
    },
    {
      "metadata": {
        "id": "vUFjtQqUfZzs",
        "colab_type": "code",
        "colab": {}
      },
      "cell_type": "code",
      "source": [
        "#history = model_4.fit(train_x_augmented, train_x1, epochs=10, batch_size=256, validation_data=(val_x1, val_x1), callbacks=[early_stopping,model_checkpoint,LR_reducer])"
      ],
      "execution_count": 0,
      "outputs": []
    },
    {
      "metadata": {
        "id": "dojIvW3Lp00-",
        "colab_type": "code",
        "colab": {}
      },
      "cell_type": "code",
      "source": [
        ""
      ],
      "execution_count": 0,
      "outputs": []
    },
    {
      "metadata": {
        "id": "u9hDBf3MNCOx",
        "colab_type": "text"
      },
      "cell_type": "markdown",
      "source": [
        "# Variational de-noising auto encoder -KP-JK version"
      ]
    },
    {
      "metadata": {
        "id": "TNLNb1LEDxtI",
        "colab_type": "text"
      },
      "cell_type": "markdown",
      "source": [
        "#### Sampling block"
      ]
    },
    {
      "metadata": {
        "id": "_rF62neQsMeo",
        "colab_type": "code",
        "colab": {}
      },
      "cell_type": "code",
      "source": [
        "gaussian_spread_sigma = 1.0\n",
        "\n",
        "# to generate sample at bottleneck\n",
        "def sampling(args):\n",
        "    bottleneck, bottleneck_log_var = args\n",
        "    \n",
        "    posterior_gaussian = K.random_normal(shape=(K.shape(bottleneck)[0], encoding_dim), mean=0.,\n",
        "                              stddev=gaussian_spread_sigma)\n",
        "    \n",
        "    return bottleneck + K.exp(bottleneck_log_var / 2) * posterior_gaussian\n",
        "\n",
        "     \n",
        "  \n",
        "    "
      ],
      "execution_count": 0,
      "outputs": []
    },
    {
      "metadata": {
        "id": "9BZWvXULD1U4",
        "colab_type": "text"
      },
      "cell_type": "markdown",
      "source": [
        "#### Variational - Bays block"
      ]
    },
    {
      "metadata": {
        "id": "eGt2tGhTsbgk",
        "colab_type": "code",
        "colab": {}
      },
      "cell_type": "code",
      "source": [
        "# defining variational loss for training\n",
        "# vae_losses=[]\n",
        "# reconstruction_loss=[]\n",
        "# KL_divergance=[]\n",
        "def vae_loss(y_true, y_pred):\n",
        "    \"\"\" Calculate loss = reconstruction loss + KL loss for each data in minibatch \"\"\"\n",
        "    # E[log P(X|z)]\n",
        "    recon = K.sum(losses.mean_squared_error(y_pred, y_true))\n",
        "    # D_KL(Q(z|X) || P(z|X)); calculate in closed form as both dist. are Gaussian\n",
        "    # check for 0.5 multiplication\n",
        "    kl = 0.5 * K.sum(K.exp(bottleneck_log_var) + K.square(bottleneck) - 1. - bottleneck_log_var, axis=1)\n",
        "\n",
        "    return recon + kl"
      ],
      "execution_count": 0,
      "outputs": []
    },
    {
      "metadata": {
        "id": "pzvcnkZHD6BY",
        "colab_type": "text"
      },
      "cell_type": "markdown",
      "source": [
        "#### What is the arry size of latent representation you want?"
      ]
    },
    {
      "metadata": {
        "id": "AlGbl3ltuRiR",
        "colab_type": "code",
        "colab": {}
      },
      "cell_type": "code",
      "source": [
        "encoding_dim = 36\n",
        "# learning_rate = 1e-7\n",
        "# input_dim = train_x.shape[1]\n"
      ],
      "execution_count": 0,
      "outputs": []
    },
    {
      "metadata": {
        "id": "fFdIS8WgGN_X",
        "colab_type": "text"
      },
      "cell_type": "markdown",
      "source": [
        "#### Lambda function to help apply the sampling and variational bays blok on the run--- during training time\n",
        "##### the fun part is the reshape. this has really disturbed us for a while..... Actually there is a tensor size mismatch "
      ]
    },
    {
      "metadata": {
        "id": "99NDNnbww7oj",
        "colab_type": "code",
        "colab": {}
      },
      "cell_type": "code",
      "source": [
        "from keras.layers import Flatten,Lambda,Reshape\n",
        "from keras import backend as K\n",
        "from keras import losses"
      ],
      "execution_count": 0,
      "outputs": []
    },
    {
      "metadata": {
        "id": "ziT92z_mJXOk",
        "colab_type": "text"
      },
      "cell_type": "markdown",
      "source": [
        "####  Better the check the structure of the flatten layer before building dense leyers after this...\n",
        "\n",
        "\n",
        "#### Also check how can you convert back this flatten or dense (on the decoder layer ) into (z,[x,y]) format.. so that \"X,Y, Z multiplication should be equal to the previous dence layer and represents a larger frame compared to the next layer"
      ]
    },
    {
      "metadata": {
        "id": "_FB5Z-Ocroh4",
        "colab_type": "code",
        "colab": {
          "base_uri": "https://localhost:8080/",
          "height": 595
        },
        "outputId": "c73c47c4-b7b0-44bd-d781-283f26a2f28d"
      },
      "cell_type": "code",
      "source": [
        "# input layer\n",
        "input_layer = Input(shape=(28, 28, 1)) # shape(hight, width , channel)\n",
        "\n",
        "# encoding architecture\n",
        "encoded_layer1 = Conv2D(64, (3, 3), activation='relu', padding='same')(input_layer)\n",
        "encoded_layer1 = MaxPool2D( (2, 2), padding='same')(encoded_layer1)\n",
        "encoded_layer2 = Conv2D(32, (3, 3), activation='relu', padding='same')(encoded_layer1)\n",
        "encoded_layer2 = MaxPool2D( (2, 2), padding='same')(encoded_layer2)\n",
        "encoded_layer3 = Conv2D(16, (3, 3), activation='relu', padding='same')(encoded_layer2)\n",
        "latent_view    = MaxPool2D( (2, 2), padding='same')(encoded_layer3)\n",
        "# layer 3 = total size = 16*3*3 = 144 this diveded by [2,2 max pull = 144/4= 36]\n",
        "flatten_view  = Flatten()(latent_view)\n",
        "\n",
        "\n",
        "encoded3 = Dense(36, activation = 'relu')(flatten_view)\n",
        "bottleneck = Dense(encoding_dim, activation = 'relu')(encoded3)\n",
        "bottleneck_log_var= Dense(encoding_dim, activation = 'relu')(encoded3)\n",
        "\n",
        "# note that \"output_shape\" isn't necessary with the TensorFlow backend\n",
        "bottleneck_sample = Lambda(sampling, output_shape=(encoding_dim,))([bottleneck, bottleneck_log_var])\n",
        "# Decoder Layers\n",
        "decoded1 = Dense(36, activation = 'relu')(bottleneck_sample)\n",
        "\n",
        "\n",
        "\n",
        "\n",
        "\n",
        "# # decoding architecture\n",
        "# decoded_layer1 = Conv2D(16, (3, 3), activation='relu', padding='same')(latent_view)\n",
        "# decoded_layer1 = UpSampling2D((2, 2))(decoded_layer1)\n",
        "# decoded_layer2 = Conv2D(32, (3, 3), activation='relu', padding='same')(decoded_layer1)\n",
        "# decoded_layer2 = UpSampling2D((2, 2))(decoded_layer2)\n",
        "# decoded_layer3 = Conv2D(64, (3, 3), activation='relu')(decoded_layer2)\n",
        "# decoded_layer3 = UpSampling2D((2, 2))(decoded_layer3)\n",
        "# output_layer   = Conv2D(1, (3, 3), padding='same')(decoded_layer3)\n",
        "\n",
        "# compile the model\n",
        "model_5 = Model(input_layer, decoded1)\n",
        "# model_2.compile(optimizer='adam', loss='mse')\n",
        "model_5.summary()"
      ],
      "execution_count": 98,
      "outputs": [
        {
          "output_type": "stream",
          "text": [
            "__________________________________________________________________________________________________\n",
            "Layer (type)                    Output Shape         Param #     Connected to                     \n",
            "==================================================================================================\n",
            "input_7 (InputLayer)            (None, 28, 28, 1)    0                                            \n",
            "__________________________________________________________________________________________________\n",
            "conv2d_23 (Conv2D)              (None, 28, 28, 64)   640         input_7[0][0]                    \n",
            "__________________________________________________________________________________________________\n",
            "max_pooling2d_19 (MaxPooling2D) (None, 14, 14, 64)   0           conv2d_23[0][0]                  \n",
            "__________________________________________________________________________________________________\n",
            "conv2d_24 (Conv2D)              (None, 14, 14, 32)   18464       max_pooling2d_19[0][0]           \n",
            "__________________________________________________________________________________________________\n",
            "max_pooling2d_20 (MaxPooling2D) (None, 7, 7, 32)     0           conv2d_24[0][0]                  \n",
            "__________________________________________________________________________________________________\n",
            "conv2d_25 (Conv2D)              (None, 7, 7, 16)     4624        max_pooling2d_20[0][0]           \n",
            "__________________________________________________________________________________________________\n",
            "max_pooling2d_21 (MaxPooling2D) (None, 4, 4, 16)     0           conv2d_25[0][0]                  \n",
            "__________________________________________________________________________________________________\n",
            "flatten_5 (Flatten)             (None, 256)          0           max_pooling2d_21[0][0]           \n",
            "__________________________________________________________________________________________________\n",
            "dense_11 (Dense)                (None, 36)           9252        flatten_5[0][0]                  \n",
            "__________________________________________________________________________________________________\n",
            "dense_12 (Dense)                (None, 9)            333         dense_11[0][0]                   \n",
            "__________________________________________________________________________________________________\n",
            "dense_13 (Dense)                (None, 9)            333         dense_11[0][0]                   \n",
            "__________________________________________________________________________________________________\n",
            "lambda_2 (Lambda)               (None, 9)            0           dense_12[0][0]                   \n",
            "                                                                 dense_13[0][0]                   \n",
            "__________________________________________________________________________________________________\n",
            "dense_14 (Dense)                (None, 36)           360         lambda_2[0][0]                   \n",
            "==================================================================================================\n",
            "Total params: 34,006\n",
            "Trainable params: 34,006\n",
            "Non-trainable params: 0\n",
            "__________________________________________________________________________________________________\n"
          ],
          "name": "stdout"
        }
      ]
    },
    {
      "metadata": {
        "id": "pWJLNxzJKbIV",
        "colab_type": "text"
      },
      "cell_type": "markdown",
      "source": [
        "### Our variational denoising autoencoder structure "
      ]
    },
    {
      "metadata": {
        "id": "tJBATVUzw5aX",
        "colab_type": "code",
        "colab": {
          "base_uri": "https://localhost:8080/",
          "height": 867
        },
        "outputId": "bcbd72b1-26fa-41cd-b955-56f6771fbe8b"
      },
      "cell_type": "code",
      "source": [
        "# input layer\n",
        "input_layer = Input(shape=(28, 28, 1)) # shape(hight, width , channel)\n",
        "\n",
        "# encoding architecture\n",
        "encoded_layer1 = Conv2D(64, (3, 3), activation='relu', padding='same')(input_layer)\n",
        "encoded_layer1 = MaxPool2D( (2, 2), padding='same')(encoded_layer1)\n",
        "encoded_layer2 = Conv2D(32, (3, 3), activation='relu', padding='same')(encoded_layer1)\n",
        "encoded_layer2 = MaxPool2D( (2, 2), padding='same')(encoded_layer2)\n",
        "encoded_layer3 = Conv2D(16, (3, 3), activation='relu', padding='same')(encoded_layer2)\n",
        "latent_view    = MaxPool2D( (2, 2), padding='same')(encoded_layer3)\n",
        "# Best practice print and check .. flatten has how many points\n",
        "flatten_view  = Flatten()(latent_view)\n",
        "\n",
        "\n",
        "encoded3 = Dense(128, activation = 'relu')(flatten_view)\n",
        "bottleneck = Dense(encoding_dim, activation = 'relu')(encoded3)\n",
        "bottleneck_log_var= Dense(encoding_dim, activation = 'relu')(encoded3)\n",
        "\n",
        "# note that \"output_shape\" isn't necessary with the TensorFlow backend\n",
        "bottleneck_sample = Lambda(sampling, output_shape=(encoding_dim,))([bottleneck, bottleneck_log_var])\n",
        "# Decoder Layers\n",
        "decoded1 = Dense(128, activation = 'relu')(bottleneck_sample)\n",
        "\n",
        "decoded2 = Dense(256, activation = 'relu')(bottleneck_sample)\n",
        "\n",
        "decoded_layer0 = Reshape((4, 4, 16))(decoded2)\n",
        "\n",
        "# decoding architecture\n",
        "decoded_layer1 = Conv2D(16, (3, 3), activation='relu', padding='same')(decoded_layer0)\n",
        "decoded_layer1 = UpSampling2D((2, 2))(decoded_layer1)\n",
        "decoded_layer2 = Conv2D(32, (3, 3), activation='relu', padding='same')(decoded_layer1)\n",
        "decoded_layer2 = UpSampling2D((2, 2))(decoded_layer2)\n",
        "decoded_layer3 = Conv2D(64, (3, 3), activation='relu')(decoded_layer2)\n",
        "decoded_layer3 = UpSampling2D((2, 2))(decoded_layer3)\n",
        "output_layer   = Conv2D(1, (3, 3), padding='same')(decoded_layer3)\n",
        "\n",
        "# compile the model\n",
        "model_6 = Model(input_layer, output_layer)\n",
        "model_6.compile(optimizer='adam', loss = vae_loss)\n",
        "model_6.summary()"
      ],
      "execution_count": 110,
      "outputs": [
        {
          "output_type": "stream",
          "text": [
            "__________________________________________________________________________________________________\n",
            "Layer (type)                    Output Shape         Param #     Connected to                     \n",
            "==================================================================================================\n",
            "input_11 (InputLayer)           (None, 28, 28, 1)    0                                            \n",
            "__________________________________________________________________________________________________\n",
            "conv2d_43 (Conv2D)              (None, 28, 28, 64)   640         input_11[0][0]                   \n",
            "__________________________________________________________________________________________________\n",
            "max_pooling2d_31 (MaxPooling2D) (None, 14, 14, 64)   0           conv2d_43[0][0]                  \n",
            "__________________________________________________________________________________________________\n",
            "conv2d_44 (Conv2D)              (None, 14, 14, 32)   18464       max_pooling2d_31[0][0]           \n",
            "__________________________________________________________________________________________________\n",
            "max_pooling2d_32 (MaxPooling2D) (None, 7, 7, 32)     0           conv2d_44[0][0]                  \n",
            "__________________________________________________________________________________________________\n",
            "conv2d_45 (Conv2D)              (None, 7, 7, 16)     4624        max_pooling2d_32[0][0]           \n",
            "__________________________________________________________________________________________________\n",
            "max_pooling2d_33 (MaxPooling2D) (None, 4, 4, 16)     0           conv2d_45[0][0]                  \n",
            "__________________________________________________________________________________________________\n",
            "flatten_9 (Flatten)             (None, 256)          0           max_pooling2d_33[0][0]           \n",
            "__________________________________________________________________________________________________\n",
            "dense_30 (Dense)                (None, 128)          32896       flatten_9[0][0]                  \n",
            "__________________________________________________________________________________________________\n",
            "dense_31 (Dense)                (None, 36)           4644        dense_30[0][0]                   \n",
            "__________________________________________________________________________________________________\n",
            "dense_32 (Dense)                (None, 36)           4644        dense_30[0][0]                   \n",
            "__________________________________________________________________________________________________\n",
            "lambda_6 (Lambda)               (None, 36)           0           dense_31[0][0]                   \n",
            "                                                                 dense_32[0][0]                   \n",
            "__________________________________________________________________________________________________\n",
            "dense_34 (Dense)                (None, 256)          9472        lambda_6[0][0]                   \n",
            "__________________________________________________________________________________________________\n",
            "reshape_3 (Reshape)             (None, 4, 4, 16)     0           dense_34[0][0]                   \n",
            "__________________________________________________________________________________________________\n",
            "conv2d_46 (Conv2D)              (None, 4, 4, 16)     2320        reshape_3[0][0]                  \n",
            "__________________________________________________________________________________________________\n",
            "up_sampling2d_10 (UpSampling2D) (None, 8, 8, 16)     0           conv2d_46[0][0]                  \n",
            "__________________________________________________________________________________________________\n",
            "conv2d_47 (Conv2D)              (None, 8, 8, 32)     4640        up_sampling2d_10[0][0]           \n",
            "__________________________________________________________________________________________________\n",
            "up_sampling2d_11 (UpSampling2D) (None, 16, 16, 32)   0           conv2d_47[0][0]                  \n",
            "__________________________________________________________________________________________________\n",
            "conv2d_48 (Conv2D)              (None, 14, 14, 64)   18496       up_sampling2d_11[0][0]           \n",
            "__________________________________________________________________________________________________\n",
            "up_sampling2d_12 (UpSampling2D) (None, 28, 28, 64)   0           conv2d_48[0][0]                  \n",
            "__________________________________________________________________________________________________\n",
            "conv2d_49 (Conv2D)              (None, 28, 28, 1)    577         up_sampling2d_12[0][0]           \n",
            "==================================================================================================\n",
            "Total params: 101,417\n",
            "Trainable params: 101,417\n",
            "Non-trainable params: 0\n",
            "__________________________________________________________________________________________________\n"
          ],
          "name": "stdout"
        }
      ]
    },
    {
      "metadata": {
        "id": "tmsbBr_3Kpst",
        "colab_type": "text"
      },
      "cell_type": "markdown",
      "source": [
        "#### Training the network..... "
      ]
    },
    {
      "metadata": {
        "id": "rXUcDoNX04Nr",
        "colab_type": "code",
        "colab": {
          "base_uri": "https://localhost:8080/",
          "height": 357
        },
        "outputId": "ff07bd8c-fba8-431b-a938-180faf54103f"
      },
      "cell_type": "code",
      "source": [
        "history_vae = model_6.fit_generator(\n",
        "    generator = train_generator,\n",
        "    epochs = 5,\n",
        "    steps_per_epoch= 235,\n",
        "    validation_steps= 40,\n",
        "    callbacks = [early_stopping,model_checkpoint,LR_reducer],\n",
        "    validation_data = valid_generator,\n",
        "    verbose = 1,use_multiprocessing=True).history"
      ],
      "execution_count": 111,
      "outputs": [
        {
          "output_type": "stream",
          "text": [
            "Epoch 1/5\n",
            "235/235 [==============================] - 54s 230ms/step - loss: 24417551470866160.0000 - val_loss: 122320.0441\n",
            "\n",
            "Epoch 00001: saving model to gdrive/My Drive/Data Science Experiment/Autoencoder Experiment/Image/autoencoder_image.h5\n",
            "Epoch 2/5\n",
            "235/235 [==============================] - 52s 221ms/step - loss: 123368.2851 - val_loss: 121953.9104\n",
            "\n",
            "Epoch 00002: saving model to gdrive/My Drive/Data Science Experiment/Autoencoder Experiment/Image/autoencoder_image.h5\n",
            "Epoch 3/5\n",
            "235/235 [==============================] - 53s 226ms/step - loss: 122711.9639 - val_loss: 119985.4896\n",
            "\n",
            "Epoch 00003: saving model to gdrive/My Drive/Data Science Experiment/Autoencoder Experiment/Image/autoencoder_image.h5\n",
            "Epoch 4/5\n",
            "235/235 [==============================] - 52s 223ms/step - loss: 121887.6108 - val_loss: 120014.6905\n",
            "\n",
            "Epoch 00004: saving model to gdrive/My Drive/Data Science Experiment/Autoencoder Experiment/Image/autoencoder_image.h5\n",
            "Epoch 5/5\n",
            "235/235 [==============================] - 52s 223ms/step - loss: 120563.1998 - val_loss: 118500.2832\n",
            "\n",
            "Epoch 00005: saving model to gdrive/My Drive/Data Science Experiment/Autoencoder Experiment/Image/autoencoder_image.h5\n"
          ],
          "name": "stdout"
        }
      ]
    },
    {
      "metadata": {
        "id": "Lgju_iTB6u64",
        "colab_type": "code",
        "colab": {}
      },
      "cell_type": "code",
      "source": [
        ""
      ],
      "execution_count": 0,
      "outputs": []
    },
    {
      "metadata": {
        "id": "4Yv5DBYh1_pw",
        "colab_type": "code",
        "colab": {}
      },
      "cell_type": "code",
      "source": [
        ""
      ],
      "execution_count": 0,
      "outputs": []
    },
    {
      "metadata": {
        "id": "1IPfLIlT5niW",
        "colab_type": "text"
      },
      "cell_type": "markdown",
      "source": [
        "## Adding all inteanal losses\n",
        "\n",
        "#### We aim to understand different papameters during the model train to get a better picture of the learning. Overall VAE loss is not enough. We designed a fuction to store all the interal losses and plot them to get the idea of training."
      ]
    },
    {
      "metadata": {
        "id": "DezXUVRC5s6B",
        "colab_type": "code",
        "colab": {}
      },
      "cell_type": "code",
      "source": [
        "#sklearn's imports\n",
        "from sklearn.metrics import mean_squared_error, mean_absolute_error\n",
        "\n",
        "import keras"
      ],
      "execution_count": 0,
      "outputs": []
    },
    {
      "metadata": {
        "id": "-jfbyIrn6PXl",
        "colab_type": "code",
        "colab": {}
      },
      "cell_type": "code",
      "source": [
        "# defining callback history\n",
        "\n",
        "class Histories(keras.callbacks.Callback):\n",
        "\n",
        "    def on_train_begin(self, logs={}):\n",
        "        self.mse = []\n",
        "        self.mae = []\n",
        "        self.mape= []\n",
        "        self.losses = []\n",
        " \n",
        "    def on_train_end(self, logs={}):\n",
        "        return\n",
        " \n",
        "    def on_epoch_begin(self, epoch, logs={}):\n",
        "        return\n",
        " \n",
        "    def on_epoch_end(self, epoch, logs={}):\n",
        "        self.losses.append(logs.get('loss'))\n",
        "        y_pred = self.model.predict(self.model.validation_data[0])\n",
        "        self.mse.append(mean_squared_error(self.model.validation_data[1], y_pred))\n",
        "        self.mae.append(mean_absolute_error(self.model.validation_data[1], y_pred))\n",
        "        self.mape.append(mean_absolute_percentage_error(self.model.validation_data[1], y_pred))\n",
        "        return\n",
        " \n",
        "    def on_batch_begin(self, batch, logs={}):\n",
        "        return\n",
        " \n",
        "    def on_batch_end(self, batch, logs={}):\n",
        "        return\n",
        "\n",
        "class PlotLosses(keras.callbacks.Callback):\n",
        "    def on_train_begin(self, logs={}):\n",
        "        self.i = 0\n",
        "        self.x = []\n",
        "        self.losses = []\n",
        "        self.val_losses = []\n",
        "        \n",
        "        self.fig = plt.figure(figsize=(15,15))\n",
        "        \n",
        "        self.logs = []\n",
        "        self.mse = []\n",
        "        self.mae = []\n",
        "        self.mape= []\n",
        "        self.val_mse = []\n",
        "        self.val_mae = []\n",
        "        self.val_mape= []\n",
        "\n",
        "\n",
        "    def on_epoch_end(self, epoch, logs={}):\n",
        "        \n",
        "        self.logs.append(logs)\n",
        "        self.x.append(self.i)\n",
        "        self.losses.append(logs.get('loss'))\n",
        "        self.mse.append(logs.get('mean_squared_error'))\n",
        "        self.mae.append(logs.get('mean_absolute_error'))\n",
        "        self.mape.append(logs.get('mean_absolute_percentage_error'))\n",
        "        self.val_losses.append(logs.get('val_loss'))\n",
        "        self.val_mse.append(logs.get('val_mean_squared_error'))\n",
        "        self.val_mae.append(logs.get('val_mean_absolute_error'))\n",
        "        self.val_mape.append(logs.get('val_mean_absolute_percentage_error'))\n",
        "        self.i += 1\n",
        "        \n",
        "        # uncomment this if we want to see the plot changeing at every epoch\n",
        "#         clear_output(wait=True)\n",
        "#         plt.subplot(2,2,1)\n",
        "#         plt.plot(self.x, self.losses, label=\"loss\")\n",
        "#         plt.plot(self.x, self.val_losses, label=\"val_loss\")\n",
        "#         plt.title('Loss Metrics')\n",
        "#         plt.legend()\n",
        "        \n",
        "#         plt.subplot(2,2,2)\n",
        "#         plt.plot(self.x, self.mape, label=\"mape\")\n",
        "#         plt.plot(self.x, self.val_mape, label=\"val_mape\")\n",
        "#         plt.title('MAPE Metric')\n",
        "#         plt.legend()\n",
        "\n",
        "#         plt.subplot(2,2,3)\n",
        "#         plt.plot(self.x, self.mse, label=\"mse\")\n",
        "#         plt.plot(self.x, self.val_mse, label=\"val_mse\")\n",
        "#         plt.title('MSE Metric')\n",
        "#         plt.legend()\n",
        "        \n",
        "#         plt.subplot(2,2,4)\n",
        "#         plt.plot(self.x, self.mae, label=\"mae\")\n",
        "#         plt.plot(self.x, self.val_mae, label=\"val_mae\")\n",
        "#         plt.title('MAE Metric')\n",
        "#         plt.legend()\n",
        "#         plt.show();\n",
        "    \n",
        "    def on_train_end(self, logs={}):\n",
        "        plt.subplot(2,2,1)\n",
        "        plt.plot(self.x, self.losses, label=\"loss\")\n",
        "        plt.plot(self.x, self.val_losses, label=\"val_loss\")\n",
        "        plt.title('Loss Metrics')\n",
        "        plt.legend()\n",
        "        \n",
        "        plt.subplot(2,2,2)\n",
        "        plt.plot(self.x, self.mape, label=\"mape\")\n",
        "        plt.plot(self.x, self.val_mape, label=\"val_mape\")\n",
        "        plt.title('MAPE Metric')\n",
        "        plt.legend()\n",
        "\n",
        "        plt.subplot(2,2,3)\n",
        "        plt.plot(self.x, self.mse, label=\"mse\")\n",
        "        plt.plot(self.x, self.val_mse, label=\"val_mse\")\n",
        "        plt.title('MSE Metric')\n",
        "        plt.legend()\n",
        "        \n",
        "        plt.subplot(2,2,4)\n",
        "        plt.plot(self.x, self.mae, label=\"mae\")\n",
        "        plt.plot(self.x, self.val_mae, label=\"val_mae\")\n",
        "        plt.title('MAE Metric')\n",
        "        plt.legend()\n",
        "        plt.show();\n",
        "\n",
        "histories = Histories()        \n",
        "plot_losses = PlotLosses()"
      ],
      "execution_count": 0,
      "outputs": []
    },
    {
      "metadata": {
        "id": "rKGWkmvrLQAT",
        "colab_type": "text"
      },
      "cell_type": "markdown",
      "source": [
        "### Again defining the network structure. Please check VVI marked code... wil give idea how to use these metrics"
      ]
    },
    {
      "metadata": {
        "id": "fodFN0Km6dGQ",
        "colab_type": "code",
        "colab": {
          "base_uri": "https://localhost:8080/",
          "height": 867
        },
        "outputId": "e1f9b32c-e3a6-4ef1-ee71-0797bf3760f7"
      },
      "cell_type": "code",
      "source": [
        "# input layer\n",
        "input_layer = Input(shape=(28, 28, 1)) # shape(hight, width , channel)\n",
        "\n",
        "# encoding architecture\n",
        "encoded_layer1 = Conv2D(64, (3, 3), activation='relu', padding='same')(input_layer)\n",
        "encoded_layer1 = MaxPool2D( (2, 2), padding='same')(encoded_layer1)\n",
        "encoded_layer2 = Conv2D(32, (3, 3), activation='relu', padding='same')(encoded_layer1)\n",
        "encoded_layer2 = MaxPool2D( (2, 2), padding='same')(encoded_layer2)\n",
        "encoded_layer3 = Conv2D(16, (3, 3), activation='relu', padding='same')(encoded_layer2)\n",
        "latent_view    = MaxPool2D( (2, 2), padding='same')(encoded_layer3)\n",
        "# Best practice print and check .. flatten has how many points\n",
        "flatten_view  = Flatten()(latent_view)\n",
        "\n",
        "\n",
        "encoded3 = Dense(128, activation = 'relu')(flatten_view)\n",
        "bottleneck = Dense(encoding_dim, activation = 'relu')(encoded3)\n",
        "bottleneck_log_var= Dense(encoding_dim, activation = 'relu')(encoded3)\n",
        "\n",
        "# note that \"output_shape\" isn't necessary with the TensorFlow backend\n",
        "bottleneck_sample = Lambda(sampling, output_shape=(encoding_dim,))([bottleneck, bottleneck_log_var])\n",
        "# Decoder Layers\n",
        "decoded1 = Dense(128, activation = 'relu')(bottleneck_sample)\n",
        "\n",
        "decoded2 = Dense(256, activation = 'relu')(bottleneck_sample)\n",
        "\n",
        "decoded_layer0 = Reshape((4, 4, 16))(decoded2)\n",
        "\n",
        "# decoding architecture\n",
        "decoded_layer1 = Conv2D(16, (3, 3), activation='relu', padding='same')(decoded_layer0)\n",
        "decoded_layer1 = UpSampling2D((2, 2))(decoded_layer1)\n",
        "decoded_layer2 = Conv2D(32, (3, 3), activation='relu', padding='same')(decoded_layer1)\n",
        "decoded_layer2 = UpSampling2D((2, 2))(decoded_layer2)\n",
        "decoded_layer3 = Conv2D(64, (3, 3), activation='relu')(decoded_layer2)\n",
        "decoded_layer3 = UpSampling2D((2, 2))(decoded_layer3)\n",
        "output_layer   = Conv2D(1, (3, 3), padding='same')(decoded_layer3)\n",
        "\n",
        "# compile the model\n",
        "model_7 = Model(input_layer, output_layer)\n",
        "model_7.compile(optimizer='adam', loss = vae_loss,metrics=['mse','mape','mae']) # VVI\n",
        "model_7.summary()"
      ],
      "execution_count": 114,
      "outputs": [
        {
          "output_type": "stream",
          "text": [
            "__________________________________________________________________________________________________\n",
            "Layer (type)                    Output Shape         Param #     Connected to                     \n",
            "==================================================================================================\n",
            "input_12 (InputLayer)           (None, 28, 28, 1)    0                                            \n",
            "__________________________________________________________________________________________________\n",
            "conv2d_50 (Conv2D)              (None, 28, 28, 64)   640         input_12[0][0]                   \n",
            "__________________________________________________________________________________________________\n",
            "max_pooling2d_34 (MaxPooling2D) (None, 14, 14, 64)   0           conv2d_50[0][0]                  \n",
            "__________________________________________________________________________________________________\n",
            "conv2d_51 (Conv2D)              (None, 14, 14, 32)   18464       max_pooling2d_34[0][0]           \n",
            "__________________________________________________________________________________________________\n",
            "max_pooling2d_35 (MaxPooling2D) (None, 7, 7, 32)     0           conv2d_51[0][0]                  \n",
            "__________________________________________________________________________________________________\n",
            "conv2d_52 (Conv2D)              (None, 7, 7, 16)     4624        max_pooling2d_35[0][0]           \n",
            "__________________________________________________________________________________________________\n",
            "max_pooling2d_36 (MaxPooling2D) (None, 4, 4, 16)     0           conv2d_52[0][0]                  \n",
            "__________________________________________________________________________________________________\n",
            "flatten_10 (Flatten)            (None, 256)          0           max_pooling2d_36[0][0]           \n",
            "__________________________________________________________________________________________________\n",
            "dense_35 (Dense)                (None, 128)          32896       flatten_10[0][0]                 \n",
            "__________________________________________________________________________________________________\n",
            "dense_36 (Dense)                (None, 36)           4644        dense_35[0][0]                   \n",
            "__________________________________________________________________________________________________\n",
            "dense_37 (Dense)                (None, 36)           4644        dense_35[0][0]                   \n",
            "__________________________________________________________________________________________________\n",
            "lambda_7 (Lambda)               (None, 36)           0           dense_36[0][0]                   \n",
            "                                                                 dense_37[0][0]                   \n",
            "__________________________________________________________________________________________________\n",
            "dense_39 (Dense)                (None, 256)          9472        lambda_7[0][0]                   \n",
            "__________________________________________________________________________________________________\n",
            "reshape_4 (Reshape)             (None, 4, 4, 16)     0           dense_39[0][0]                   \n",
            "__________________________________________________________________________________________________\n",
            "conv2d_53 (Conv2D)              (None, 4, 4, 16)     2320        reshape_4[0][0]                  \n",
            "__________________________________________________________________________________________________\n",
            "up_sampling2d_13 (UpSampling2D) (None, 8, 8, 16)     0           conv2d_53[0][0]                  \n",
            "__________________________________________________________________________________________________\n",
            "conv2d_54 (Conv2D)              (None, 8, 8, 32)     4640        up_sampling2d_13[0][0]           \n",
            "__________________________________________________________________________________________________\n",
            "up_sampling2d_14 (UpSampling2D) (None, 16, 16, 32)   0           conv2d_54[0][0]                  \n",
            "__________________________________________________________________________________________________\n",
            "conv2d_55 (Conv2D)              (None, 14, 14, 64)   18496       up_sampling2d_14[0][0]           \n",
            "__________________________________________________________________________________________________\n",
            "up_sampling2d_15 (UpSampling2D) (None, 28, 28, 64)   0           conv2d_55[0][0]                  \n",
            "__________________________________________________________________________________________________\n",
            "conv2d_56 (Conv2D)              (None, 28, 28, 1)    577         up_sampling2d_15[0][0]           \n",
            "==================================================================================================\n",
            "Total params: 101,417\n",
            "Trainable params: 101,417\n",
            "Non-trainable params: 0\n",
            "__________________________________________________________________________________________________\n"
          ],
          "name": "stdout"
        }
      ]
    },
    {
      "metadata": {
        "id": "0d8hpRRpLfTr",
        "colab_type": "text"
      },
      "cell_type": "markdown",
      "source": [
        "# Now relax, take a cup of coffee and enjoy the show......... before running tell your computer .. ALLL THE BEST BUDDY...... \n",
        "\n",
        "## Don't forget------ Kumarjit & Jitin"
      ]
    },
    {
      "metadata": {
        "id": "kQCbu8i26xYY",
        "colab_type": "code",
        "colab": {
          "base_uri": "https://localhost:8080/",
          "height": 1238
        },
        "outputId": "cc0af79a-22bd-47c9-9452-bb92efa24763"
      },
      "cell_type": "code",
      "source": [
        "history_vae1 = model_7.fit_generator(\n",
        "    generator = train_generator,\n",
        "    epochs = 5,\n",
        "    steps_per_epoch= 235,\n",
        "    validation_steps= 40,\n",
        "    callbacks = [early_stopping,model_checkpoint,LR_reducer,plot_losses],\n",
        "    validation_data = valid_generator,\n",
        "    verbose = 1,use_multiprocessing=True).history"
      ],
      "execution_count": 115,
      "outputs": [
        {
          "output_type": "stream",
          "text": [
            "Epoch 1/5\n",
            "235/235 [==============================] - 56s 236ms/step - loss: 6463965031.0597 - mean_squared_error: 31185.8154 - mean_absolute_percentage_error: 2777988472.2993 - mean_absolute_error: 3.4624 - val_loss: 15378.2659 - val_mean_squared_error: 0.0759 - val_mean_absolute_percentage_error: 88135793.3184 - val_mean_absolute_error: 0.1777\n",
            "\n",
            "Epoch 00001: saving model to gdrive/My Drive/Data Science Experiment/Autoencoder Experiment/Image/autoencoder_image.h5\n",
            "Epoch 2/5\n",
            "235/235 [==============================] - 52s 220ms/step - loss: 15124.2743 - mean_squared_error: 0.0748 - mean_absolute_percentage_error: 87870349.4265 - mean_absolute_error: 0.1758 - val_loss: 15001.4568 - val_mean_squared_error: 0.0741 - val_mean_absolute_percentage_error: 91513509.7472 - val_mean_absolute_error: 0.1773\n",
            "\n",
            "Epoch 00002: saving model to gdrive/My Drive/Data Science Experiment/Autoencoder Experiment/Image/autoencoder_image.h5\n",
            "Epoch 3/5\n",
            "235/235 [==============================] - 54s 228ms/step - loss: 14815.1652 - mean_squared_error: 0.0733 - mean_absolute_percentage_error: 85893341.2147 - mean_absolute_error: 0.1728 - val_loss: 14586.9179 - val_mean_squared_error: 0.0721 - val_mean_absolute_percentage_error: 84625578.8416 - val_mean_absolute_error: 0.1714\n",
            "\n",
            "Epoch 00003: saving model to gdrive/My Drive/Data Science Experiment/Autoencoder Experiment/Image/autoencoder_image.h5\n",
            "Epoch 4/5\n",
            "235/235 [==============================] - 53s 225ms/step - loss: 14573.6361 - mean_squared_error: 0.0722 - mean_absolute_percentage_error: 83850845.2321 - mean_absolute_error: 0.1700 - val_loss: 14185.5169 - val_mean_squared_error: 0.0701 - val_mean_absolute_percentage_error: 85935627.2384 - val_mean_absolute_error: 0.1694\n",
            "\n",
            "Epoch 00004: saving model to gdrive/My Drive/Data Science Experiment/Autoencoder Experiment/Image/autoencoder_image.h5\n",
            "Epoch 5/5\n",
            "235/235 [==============================] - 54s 228ms/step - loss: 14415.7658 - mean_squared_error: 0.0714 - mean_absolute_percentage_error: 83017222.3070 - mean_absolute_error: 0.1687 - val_loss: 14061.5476 - val_mean_squared_error: 0.0695 - val_mean_absolute_percentage_error: 86701273.5104 - val_mean_absolute_error: 0.1691\n",
            "\n",
            "Epoch 00005: saving model to gdrive/My Drive/Data Science Experiment/Autoencoder Experiment/Image/autoencoder_image.h5\n"
          ],
          "name": "stdout"
        },
        {
          "output_type": "display_data",
          "data": {
            "image/png": "[encoded data removed]",
            "text/plain": [
              "<matplotlib.figure.Figure at 0x7f2458262048>"
            ]
          },
          "metadata": {
            "tags": []
          }
        }
      ]
    },
    {
      "metadata": {
        "id": "TtN3-fKg7K5n",
        "colab_type": "code",
        "colab": {
          "base_uri": "https://localhost:8080/",
          "height": 1918
        },
        "outputId": "36966324-b824-44cf-cb16-e3adb38640d7"
      },
      "cell_type": "code",
      "source": [
        "history_vae2 = model_7.fit_generator(\n",
        "    generator = train_generator,\n",
        "    epochs = 15,\n",
        "    steps_per_epoch= 235,\n",
        "    validation_steps= 40,\n",
        "    callbacks = [early_stopping,model_checkpoint,LR_reducer,plot_losses],\n",
        "    validation_data = valid_generator,\n",
        "    verbose = 1,use_multiprocessing=True).history"
      ],
      "execution_count": 116,
      "outputs": [
        {
          "output_type": "stream",
          "text": [
            "Epoch 1/15\n",
            "235/235 [==============================] - 54s 231ms/step - loss: 14331.0982 - mean_squared_error: 0.0710 - mean_absolute_percentage_error: 82928076.0611 - mean_absolute_error: 0.1683 - val_loss: 13946.4478 - val_mean_squared_error: 0.0689 - val_mean_absolute_percentage_error: 88285268.2624 - val_mean_absolute_error: 0.1692\n",
            "\n",
            "Epoch 00001: saving model to gdrive/My Drive/Data Science Experiment/Autoencoder Experiment/Image/autoencoder_image.h5\n",
            "Epoch 2/15\n",
            "235/235 [==============================] - 54s 230ms/step - loss: 14270.1091 - mean_squared_error: 0.0707 - mean_absolute_percentage_error: 82562304.1217 - mean_absolute_error: 0.1678 - val_loss: 13934.9961 - val_mean_squared_error: 0.0689 - val_mean_absolute_percentage_error: 87249781.8624 - val_mean_absolute_error: 0.1686\n",
            "\n",
            "Epoch 00002: saving model to gdrive/My Drive/Data Science Experiment/Autoencoder Experiment/Image/autoencoder_image.h5\n",
            "Epoch 3/15\n",
            "235/235 [==============================] - 54s 231ms/step - loss: 14227.9181 - mean_squared_error: 0.0705 - mean_absolute_percentage_error: 82210492.0844 - mean_absolute_error: 0.1673 - val_loss: 13924.2114 - val_mean_squared_error: 0.0688 - val_mean_absolute_percentage_error: 87474308.7488 - val_mean_absolute_error: 0.1685\n",
            "\n",
            "Epoch 00003: saving model to gdrive/My Drive/Data Science Experiment/Autoencoder Experiment/Image/autoencoder_image.h5\n",
            "Epoch 4/15\n",
            "235/235 [==============================] - 54s 230ms/step - loss: 14184.4726 - mean_squared_error: 0.0703 - mean_absolute_percentage_error: 81818671.3931 - mean_absolute_error: 0.1668 - val_loss: 13803.2575 - val_mean_squared_error: 0.0683 - val_mean_absolute_percentage_error: 82040280.0256 - val_mean_absolute_error: 0.1651\n",
            "\n",
            "Epoch 00004: saving model to gdrive/My Drive/Data Science Experiment/Autoencoder Experiment/Image/autoencoder_image.h5\n",
            "Epoch 5/15\n",
            "235/235 [==============================] - 54s 231ms/step - loss: 14140.6488 - mean_squared_error: 0.0701 - mean_absolute_percentage_error: 81296390.9303 - mean_absolute_error: 0.1661 - val_loss: 13770.7964 - val_mean_squared_error: 0.0681 - val_mean_absolute_percentage_error: 84142276.9792 - val_mean_absolute_error: 0.1660\n",
            "\n",
            "Epoch 00005: saving model to gdrive/My Drive/Data Science Experiment/Autoencoder Experiment/Image/autoencoder_image.h5\n",
            "Epoch 6/15\n",
            "235/235 [==============================] - 54s 228ms/step - loss: 14117.9470 - mean_squared_error: 0.0700 - mean_absolute_percentage_error: 81022406.1606 - mean_absolute_error: 0.1658 - val_loss: 13706.6913 - val_mean_squared_error: 0.0679 - val_mean_absolute_percentage_error: 79126455.4240 - val_mean_absolute_error: 0.1629\n",
            "\n",
            "Epoch 00006: saving model to gdrive/My Drive/Data Science Experiment/Autoencoder Experiment/Image/autoencoder_image.h5\n",
            "Epoch 7/15\n",
            "235/235 [==============================] - 54s 230ms/step - loss: 14076.1494 - mean_squared_error: 0.0698 - mean_absolute_percentage_error: 80787249.1911 - mean_absolute_error: 0.1654 - val_loss: 13627.9729 - val_mean_squared_error: 0.0674 - val_mean_absolute_percentage_error: 84487162.9952 - val_mean_absolute_error: 0.1650\n",
            "\n",
            "Epoch 00007: saving model to gdrive/My Drive/Data Science Experiment/Autoencoder Experiment/Image/autoencoder_image.h5\n",
            "Epoch 8/15\n",
            "235/235 [==============================] - 54s 231ms/step - loss: 14037.3624 - mean_squared_error: 0.0696 - mean_absolute_percentage_error: 80532216.0181 - mean_absolute_error: 0.1650 - val_loss: 13559.7976 - val_mean_squared_error: 0.0671 - val_mean_absolute_percentage_error: 79290688.1792 - val_mean_absolute_error: 0.1618\n",
            "\n",
            "Epoch 00008: saving model to gdrive/My Drive/Data Science Experiment/Autoencoder Experiment/Image/autoencoder_image.h5\n",
            "Epoch 9/15\n",
            "235/235 [==============================] - 54s 229ms/step - loss: 14026.3052 - mean_squared_error: 0.0696 - mean_absolute_percentage_error: 80499194.0290 - mean_absolute_error: 0.1650 - val_loss: 13568.2275 - val_mean_squared_error: 0.0672 - val_mean_absolute_percentage_error: 77573246.1568 - val_mean_absolute_error: 0.1610\n",
            "\n",
            "Epoch 00009: saving model to gdrive/My Drive/Data Science Experiment/Autoencoder Experiment/Image/autoencoder_image.h5\n",
            "Epoch 10/15\n",
            "235/235 [==============================] - 55s 233ms/step - loss: 13951.1850 - mean_squared_error: 0.0692 - mean_absolute_percentage_error: 80117404.4889 - mean_absolute_error: 0.1643 - val_loss: 13423.5178 - val_mean_squared_error: 0.0664 - val_mean_absolute_percentage_error: 77676117.1840 - val_mean_absolute_error: 0.1599\n",
            "\n",
            "Epoch 00010: saving model to gdrive/My Drive/Data Science Experiment/Autoencoder Experiment/Image/autoencoder_image.h5\n",
            "Epoch 11/15\n",
            "235/235 [==============================] - 54s 231ms/step - loss: 13897.8468 - mean_squared_error: 0.0690 - mean_absolute_percentage_error: 79935331.2077 - mean_absolute_error: 0.1639 - val_loss: 13280.1405 - val_mean_squared_error: 0.0657 - val_mean_absolute_percentage_error: 79804585.0496 - val_mean_absolute_error: 0.1604\n",
            "\n",
            "Epoch 00011: saving model to gdrive/My Drive/Data Science Experiment/Autoencoder Experiment/Image/autoencoder_image.h5\n",
            "Epoch 12/15\n",
            "235/235 [==============================] - 54s 228ms/step - loss: 13836.0999 - mean_squared_error: 0.0686 - mean_absolute_percentage_error: 79616271.3146 - mean_absolute_error: 0.1633 - val_loss: 13210.9830 - val_mean_squared_error: 0.0653 - val_mean_absolute_percentage_error: 79427786.2528 - val_mean_absolute_error: 0.1602\n",
            "\n",
            "Epoch 00012: saving model to gdrive/My Drive/Data Science Experiment/Autoencoder Experiment/Image/autoencoder_image.h5\n",
            "Epoch 13/15\n",
            "235/235 [==============================] - 53s 227ms/step - loss: 13794.7031 - mean_squared_error: 0.0684 - mean_absolute_percentage_error: 79198463.5733 - mean_absolute_error: 0.1628 - val_loss: 13046.3601 - val_mean_squared_error: 0.0644 - val_mean_absolute_percentage_error: 81220047.4880 - val_mean_absolute_error: 0.1602\n",
            "\n",
            "Epoch 00013: saving model to gdrive/My Drive/Data Science Experiment/Autoencoder Experiment/Image/autoencoder_image.h5\n",
            "Epoch 14/15\n",
            "235/235 [==============================] - 53s 225ms/step - loss: 13738.2411 - mean_squared_error: 0.0681 - mean_absolute_percentage_error: 78646941.2071 - mean_absolute_error: 0.1620 - val_loss: 13005.3978 - val_mean_squared_error: 0.0643 - val_mean_absolute_percentage_error: 77259765.1200 - val_mean_absolute_error: 0.1579\n",
            "\n",
            "Epoch 00014: saving model to gdrive/My Drive/Data Science Experiment/Autoencoder Experiment/Image/autoencoder_image.h5\n",
            "Epoch 15/15\n",
            "235/235 [==============================] - 53s 225ms/step - loss: 13714.9128 - mean_squared_error: 0.0680 - mean_absolute_percentage_error: 78295666.1422 - mean_absolute_error: 0.1616 - val_loss: 12988.3754 - val_mean_squared_error: 0.0641 - val_mean_absolute_percentage_error: 82956533.0176 - val_mean_absolute_error: 0.1607\n",
            "\n",
            "Epoch 00015: saving model to gdrive/My Drive/Data Science Experiment/Autoencoder Experiment/Image/autoencoder_image.h5\n"
          ],
          "name": "stdout"
        },
        {
          "output_type": "display_data",
          "data": {
            "image/png": "[encoded data removed]",
            "text/plain": [
              "<matplotlib.figure.Figure at 0x7f245a6b6d68>"
            ]
          },
          "metadata": {
            "tags": []
          }
        }
      ]
    },
    {
      "metadata": {
        "id": "-BZxit1EL0r_",
        "colab_type": "text"
      },
      "cell_type": "markdown",
      "source": [
        "# Big THANK YOU ... HOPE YOU enjoyed the TRAILER"
      ]
    },
    {
      "metadata": {
        "id": "Q-oHdeXe8hCg",
        "colab_type": "code",
        "colab": {}
      },
      "cell_type": "code",
      "source": [
        ""
      ],
      "execution_count": 0,
      "outputs": []
    }
  ]
}